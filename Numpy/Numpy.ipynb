{
 "cells": [
  {
   "cell_type": "markdown",
   "id": "3fc0dc3b-3b13-4c9d-8bbb-ce3f4edd6435",
   "metadata": {},
   "source": [
    "#### Topics\n",
    "- asarray()\n",
    "- asanyarray()\n",
    "- matrix()\n",
    "- deepcopy and shallow copy\n",
    "- fromfunction()\n",
    "- fromiter()\n",
    "- fromstring()\n",
    "- ndim\n",
    "- size\n",
    "- shape\n",
    "- dtypes\n",
    "- arange\n",
    "- linspace()\n",
    "- zeros()\n",
    "- ones()\n",
    "- empty()\n",
    "- eye()\n",
    "- logspace()\n",
    "- random.randn()\n",
    "- random.rand()\n",
    "- random.randint()\n",
    "- reshape()\n",
    "- array assignment, slicing, arithmetic operations\n",
    "- matrix multiplication arr1@arr2\n",
    "- broadcasting\n",
    "- sqrt()  , exp()    , log()"
   ]
  },
  {
   "cell_type": "code",
   "execution_count": 2,
   "id": "47a7edf6-c650-4adf-a1fc-8e33a79402ed",
   "metadata": {},
   "outputs": [],
   "source": [
    "import numpy as np"
   ]
  },
  {
   "cell_type": "code",
   "execution_count": 3,
   "id": "85dd324a-7a1a-4a9d-94af-e8580b639e2f",
   "metadata": {},
   "outputs": [],
   "source": [
    "l = [1,2,3,4,5,8]\n",
    "n = np.array(l)"
   ]
  },
  {
   "cell_type": "code",
   "execution_count": 4,
   "id": "5faaa5a7-2f66-448a-b478-2fc896743005",
   "metadata": {},
   "outputs": [
    {
     "data": {
      "text/plain": [
       "array([1, 2, 3, 4, 5, 8])"
      ]
     },
     "execution_count": 4,
     "metadata": {},
     "output_type": "execute_result"
    }
   ],
   "source": [
    "n"
   ]
  },
  {
   "cell_type": "code",
   "execution_count": 5,
   "id": "99c5e7b3-af73-4a57-876c-bc71368720ef",
   "metadata": {},
   "outputs": [
    {
     "data": {
      "text/plain": [
       "numpy.ndarray"
      ]
     },
     "execution_count": 5,
     "metadata": {},
     "output_type": "execute_result"
    }
   ],
   "source": [
    "type(n)"
   ]
  },
  {
   "cell_type": "code",
   "execution_count": 6,
   "id": "9ada01d3-1151-4838-a45a-d9fbbaeb51ab",
   "metadata": {},
   "outputs": [
    {
     "data": {
      "text/plain": [
       "array([[1, 2],\n",
       "       [2, 3]])"
      ]
     },
     "execution_count": 6,
     "metadata": {},
     "output_type": "execute_result"
    }
   ],
   "source": [
    "np.array([[1,2],[2,3]])"
   ]
  },
  {
   "cell_type": "code",
   "execution_count": 7,
   "id": "48b2e7c4-6044-47f3-b310-872a5475ff00",
   "metadata": {},
   "outputs": [],
   "source": [
    "#### asarray()"
   ]
  },
  {
   "cell_type": "code",
   "execution_count": 8,
   "id": "b626cbab-010b-4a5b-a4ff-0332ab6f69d2",
   "metadata": {},
   "outputs": [
    {
     "data": {
      "text/plain": [
       "array([1, 2, 3, 4, 5, 8])"
      ]
     },
     "execution_count": 8,
     "metadata": {},
     "output_type": "execute_result"
    }
   ],
   "source": [
    "np.asarray(l)"
   ]
  },
  {
   "cell_type": "code",
   "execution_count": 9,
   "id": "ddde4d17-ab4c-4f57-8716-49b493b9220a",
   "metadata": {},
   "outputs": [],
   "source": [
    "#### asanyarray()"
   ]
  },
  {
   "cell_type": "code",
   "execution_count": 10,
   "id": "cdc240d3-2d52-41ae-aeca-fc1e334b53b1",
   "metadata": {},
   "outputs": [
    {
     "data": {
      "text/plain": [
       "array([1, 2, 3, 4, 5, 8])"
      ]
     },
     "execution_count": 10,
     "metadata": {},
     "output_type": "execute_result"
    }
   ],
   "source": [
    "np.asanyarray(l)"
   ]
  },
  {
   "cell_type": "markdown",
   "id": "ab365226-8050-4082-bcf0-42cabeab942b",
   "metadata": {},
   "source": [
    "##### matrix always returns 2d data "
   ]
  },
  {
   "cell_type": "code",
   "execution_count": 11,
   "id": "d8c5383c-6251-4cd0-952e-129323b85714",
   "metadata": {},
   "outputs": [],
   "source": [
    "a = np.matrix(l)"
   ]
  },
  {
   "cell_type": "code",
   "execution_count": 12,
   "id": "17afe37a-a48a-426c-baa4-b313d464d925",
   "metadata": {},
   "outputs": [],
   "source": [
    "#### asanyarray will not change the matrix into array because matrix is a subclass of array"
   ]
  },
  {
   "cell_type": "code",
   "execution_count": 13,
   "id": "813fab76-eec6-407f-8818-75e1fba33c9c",
   "metadata": {},
   "outputs": [
    {
     "data": {
      "text/plain": [
       "matrix([[1, 2, 3, 4, 5, 8]])"
      ]
     },
     "execution_count": 13,
     "metadata": {},
     "output_type": "execute_result"
    }
   ],
   "source": [
    "np.asanyarray(a)"
   ]
  },
  {
   "cell_type": "markdown",
   "id": "f3ddadb1-6d0c-49dc-b01f-3a3d54c6baee",
   "metadata": {},
   "source": [
    "#### shallow copy\n",
    "copied file will share the same memory location"
   ]
  },
  {
   "cell_type": "code",
   "execution_count": 18,
   "id": "3d2f04c7-e8b0-4b3d-b70c-bcbf4afcfb06",
   "metadata": {},
   "outputs": [],
   "source": [
    "a = np.array([1,2,3,4,5,6])"
   ]
  },
  {
   "cell_type": "code",
   "execution_count": 21,
   "id": "6a32eb47-a8da-4e13-81c5-51a589bf557e",
   "metadata": {},
   "outputs": [],
   "source": [
    "c = a"
   ]
  },
  {
   "cell_type": "code",
   "execution_count": 22,
   "id": "bb04f5de-c479-4668-94d3-b59cbe643266",
   "metadata": {},
   "outputs": [],
   "source": [
    "a[0] = 100"
   ]
  },
  {
   "cell_type": "code",
   "execution_count": 25,
   "id": "fa732b53-37be-4298-984b-6821fe9b0378",
   "metadata": {},
   "outputs": [
    {
     "data": {
      "text/plain": [
       "array([100,   2,   3,   4,   5,   6])"
      ]
     },
     "execution_count": 25,
     "metadata": {},
     "output_type": "execute_result"
    }
   ],
   "source": [
    "a"
   ]
  },
  {
   "cell_type": "code",
   "execution_count": 24,
   "id": "9c833c16-c0af-4caa-90eb-afb586f072ac",
   "metadata": {},
   "outputs": [
    {
     "data": {
      "text/plain": [
       "array([100,   2,   3,   4,   5,   6])"
      ]
     },
     "execution_count": 24,
     "metadata": {},
     "output_type": "execute_result"
    }
   ],
   "source": [
    "c"
   ]
  },
  {
   "cell_type": "markdown",
   "id": "fa483387-3f7e-4d94-92d4-e197b8514b1c",
   "metadata": {},
   "source": [
    "#### Deep copy\n",
    "copied file will not share the same location"
   ]
  },
  {
   "cell_type": "code",
   "execution_count": 26,
   "id": "ffbf67ac-846d-4ad3-a48f-92938589409f",
   "metadata": {},
   "outputs": [],
   "source": [
    "## copy b from \n",
    "b = np.array(a)"
   ]
  },
  {
   "cell_type": "code",
   "execution_count": 27,
   "id": "23fc1d60-b906-43b3-ac64-cf6a38092765",
   "metadata": {},
   "outputs": [],
   "source": [
    "a[1] = 400"
   ]
  },
  {
   "cell_type": "code",
   "execution_count": 28,
   "id": "e8a30c1c-abe1-4d6f-ac6a-69de7f640b2f",
   "metadata": {},
   "outputs": [
    {
     "data": {
      "text/plain": [
       "array([100,   2,   3,   4,   5,   6])"
      ]
     },
     "execution_count": 28,
     "metadata": {},
     "output_type": "execute_result"
    }
   ],
   "source": [
    "## no change in b\n",
    "b"
   ]
  },
  {
   "cell_type": "code",
   "execution_count": null,
   "id": "7ffc09de-ef76-4853-ad81-fbc1e01e1379",
   "metadata": {},
   "outputs": [],
   "source": []
  },
  {
   "cell_type": "markdown",
   "id": "6932f5a5-aeec-49c6-9357-ee3026fd44e1",
   "metadata": {},
   "source": [
    "#####  fromfunction()     ,  fromiter()   , fromstring()\n",
    "funtion to generate different dimesndhions of array"
   ]
  },
  {
   "cell_type": "code",
   "execution_count": 29,
   "id": "2eb06c11-1835-492c-8bd8-9caf08f3dae8",
   "metadata": {},
   "outputs": [
    {
     "data": {
      "text/plain": [
       "array([[ True, False, False],\n",
       "       [False,  True, False],\n",
       "       [False, False,  True]])"
      ]
     },
     "execution_count": 29,
     "metadata": {},
     "output_type": "execute_result"
    }
   ],
   "source": [
    "np.fromfunction(lambda i, j: i==j,(3,3))"
   ]
  },
  {
   "cell_type": "code",
   "execution_count": 35,
   "id": "0cab27f7-be33-4aa5-9d5b-6972b98a1ec7",
   "metadata": {},
   "outputs": [],
   "source": [
    "iterable = (i*i for i in range (5))"
   ]
  },
  {
   "cell_type": "code",
   "execution_count": 36,
   "id": "a9831820-5605-454f-9f61-f4fa283cad41",
   "metadata": {},
   "outputs": [
    {
     "data": {
      "text/plain": [
       "array([ 0.,  1.,  4.,  9., 16.])"
      ]
     },
     "execution_count": 36,
     "metadata": {},
     "output_type": "execute_result"
    }
   ],
   "source": [
    "np.fromiter(iterable,float )"
   ]
  },
  {
   "cell_type": "code",
   "execution_count": 38,
   "id": "c7edb1af-3f5e-4c0a-b414-3ddfaf65bcd5",
   "metadata": {},
   "outputs": [
    {
     "data": {
      "text/plain": [
       "array([124., 245.])"
      ]
     },
     "execution_count": 38,
     "metadata": {},
     "output_type": "execute_result"
    }
   ],
   "source": [
    "np.fromstring(\"124 245\",sep= ' ' )"
   ]
  },
  {
   "cell_type": "code",
   "execution_count": 39,
   "id": "8b345d55-8447-44d3-b983-6be33a859628",
   "metadata": {},
   "outputs": [
    {
     "data": {
      "text/plain": [
       "array([124., 878.])"
      ]
     },
     "execution_count": 39,
     "metadata": {},
     "output_type": "execute_result"
    }
   ],
   "source": [
    "np.fromstring(\"124,878\" , sep = \",\")"
   ]
  },
  {
   "cell_type": "code",
   "execution_count": 40,
   "id": "9c6e93aa-a0fb-4366-be27-db5019f2171c",
   "metadata": {},
   "outputs": [],
   "source": [
    "#Numpy data types"
   ]
  },
  {
   "cell_type": "code",
   "execution_count": 49,
   "id": "aab1689f-1002-4767-b9df-ab31997d6aea",
   "metadata": {},
   "outputs": [],
   "source": [
    "ar = np.array([1,2,3,4,5,6])"
   ]
  },
  {
   "cell_type": "code",
   "execution_count": 50,
   "id": "6a070aae-3390-4a9b-b2d4-3395d140e707",
   "metadata": {},
   "outputs": [
    {
     "data": {
      "text/plain": [
       "1"
      ]
     },
     "execution_count": 50,
     "metadata": {},
     "output_type": "execute_result"
    }
   ],
   "source": [
    "ar.ndim"
   ]
  },
  {
   "cell_type": "markdown",
   "id": "b5399f0c-8ac3-4406-a734-e9a5d6b3593e",
   "metadata": {},
   "source": [
    "#### shape"
   ]
  },
  {
   "cell_type": "code",
   "execution_count": 51,
   "id": "7ea8b51e-2bbe-4ae4-8a51-bcf87d6d28ab",
   "metadata": {},
   "outputs": [
    {
     "data": {
      "text/plain": [
       "(6,)"
      ]
     },
     "execution_count": 51,
     "metadata": {},
     "output_type": "execute_result"
    }
   ],
   "source": [
    "ar.shape"
   ]
  },
  {
   "cell_type": "markdown",
   "id": "c65e64f1-9096-4d52-a2a1-2bc75cb0fae9",
   "metadata": {},
   "source": [
    "#### size"
   ]
  },
  {
   "cell_type": "code",
   "execution_count": 52,
   "id": "e487864d-4ea2-4c79-9b90-63cdef7ce7ad",
   "metadata": {},
   "outputs": [
    {
     "data": {
      "text/plain": [
       "6"
      ]
     },
     "execution_count": 52,
     "metadata": {},
     "output_type": "execute_result"
    }
   ],
   "source": [
    "ar.size"
   ]
  },
  {
   "cell_type": "code",
   "execution_count": 44,
   "id": "fc72fd95-4e6a-406c-9f08-0a4bf358cc92",
   "metadata": {},
   "outputs": [],
   "source": [
    "ar = np.array([[1,2,3,4,5,6],[1,2,3,45,6,4]])"
   ]
  },
  {
   "cell_type": "code",
   "execution_count": 45,
   "id": "a7aa652e-ebf9-4581-8bc1-c45dfc6fa29f",
   "metadata": {},
   "outputs": [
    {
     "data": {
      "text/plain": [
       "2"
      ]
     },
     "execution_count": 45,
     "metadata": {},
     "output_type": "execute_result"
    }
   ],
   "source": [
    "ar.ndim"
   ]
  },
  {
   "cell_type": "code",
   "execution_count": 46,
   "id": "06842902-7746-4be7-8d14-7527fcb9e716",
   "metadata": {},
   "outputs": [
    {
     "data": {
      "text/plain": [
       "12"
      ]
     },
     "execution_count": 46,
     "metadata": {},
     "output_type": "execute_result"
    }
   ],
   "source": [
    "ar.size"
   ]
  },
  {
   "cell_type": "code",
   "execution_count": 47,
   "id": "b5257679-5b9f-470e-90f4-c7c6f53e5d4a",
   "metadata": {},
   "outputs": [
    {
     "data": {
      "text/plain": [
       "(2, 6)"
      ]
     },
     "execution_count": 47,
     "metadata": {},
     "output_type": "execute_result"
    }
   ],
   "source": [
    "ar.shape"
   ]
  },
  {
   "cell_type": "markdown",
   "id": "00033591-fd6f-44bb-8ae4-599066daaa68",
   "metadata": {},
   "source": [
    "#### dtype"
   ]
  },
  {
   "cell_type": "code",
   "execution_count": 55,
   "id": "dca8b7b9-82d5-4f35-bc9d-3a0693d21119",
   "metadata": {},
   "outputs": [
    {
     "data": {
      "text/plain": [
       "dtype('int64')"
      ]
     },
     "execution_count": 55,
     "metadata": {},
     "output_type": "execute_result"
    }
   ],
   "source": [
    "ar.dtype"
   ]
  },
  {
   "cell_type": "code",
   "execution_count": null,
   "id": "328845da-d143-44c2-8024-7461481fb86c",
   "metadata": {},
   "outputs": [],
   "source": []
  },
  {
   "cell_type": "code",
   "execution_count": 59,
   "id": "08f3a157-dbaf-43bf-9711-672c2990fc1c",
   "metadata": {},
   "outputs": [],
   "source": [
    "ar22 = np.array([(1.4,85,25),(1,25,8)])"
   ]
  },
  {
   "cell_type": "code",
   "execution_count": 60,
   "id": "59183421-209f-4777-86e3-67fd380fea15",
   "metadata": {},
   "outputs": [
    {
     "data": {
      "text/plain": [
       "array([[ 1.4, 85. , 25. ],\n",
       "       [ 1. , 25. ,  8. ]])"
      ]
     },
     "execution_count": 60,
     "metadata": {},
     "output_type": "execute_result"
    }
   ],
   "source": [
    "ar22"
   ]
  },
  {
   "cell_type": "code",
   "execution_count": 61,
   "id": "85c8379d-2f1e-4bb8-a35c-cf1140d02f4d",
   "metadata": {},
   "outputs": [
    {
     "data": {
      "text/plain": [
       "dtype('float64')"
      ]
     },
     "execution_count": 61,
     "metadata": {},
     "output_type": "execute_result"
    }
   ],
   "source": [
    "## because of one floating value it is converting the dtype into float\n",
    "ar22.dtype"
   ]
  },
  {
   "cell_type": "code",
   "execution_count": null,
   "id": "82bbaf48-bd29-4064-b1af-69c3cc68c269",
   "metadata": {},
   "outputs": [],
   "source": []
  },
  {
   "cell_type": "code",
   "execution_count": null,
   "id": "437f577c-0d98-47d6-8cb5-c80b14f79038",
   "metadata": {},
   "outputs": [],
   "source": [
    "# arange()"
   ]
  },
  {
   "cell_type": "code",
   "execution_count": 62,
   "id": "68ab46e5-14db-4041-ba45-027cb3745ca4",
   "metadata": {},
   "outputs": [
    {
     "data": {
      "text/plain": [
       "[0, 1, 2, 3, 4]"
      ]
     },
     "execution_count": 62,
     "metadata": {},
     "output_type": "execute_result"
    }
   ],
   "source": [
    "list(range(5))"
   ]
  },
  {
   "cell_type": "code",
   "execution_count": 63,
   "id": "a54055b0-9fb0-4d30-9fd9-a5ecc7ef5b0a",
   "metadata": {},
   "outputs": [
    {
     "data": {
      "text/plain": [
       "array([2.3, 3.3, 4.3, 5.3])"
      ]
     },
     "execution_count": 63,
     "metadata": {},
     "output_type": "execute_result"
    }
   ],
   "source": [
    "## start,stop\n",
    "np.arange(2.3,5.6)"
   ]
  },
  {
   "cell_type": "code",
   "execution_count": 64,
   "id": "4858afef-697e-4b3a-89b9-0328d7c49e58",
   "metadata": {},
   "outputs": [
    {
     "data": {
      "text/plain": [
       "array([2.1, 4.1, 6.1, 8.1])"
      ]
     },
     "execution_count": 64,
     "metadata": {},
     "output_type": "execute_result"
    }
   ],
   "source": [
    "## start , stop, step\n",
    "np.arange(2.1,10.1,2)"
   ]
  },
  {
   "cell_type": "code",
   "execution_count": 65,
   "id": "6f8e4ca2-6dfb-46e7-bd9d-82bb72f50bdf",
   "metadata": {},
   "outputs": [
    {
     "data": {
      "text/plain": [
       "[1.0, 1.8, 2.6, 3.4000000000000004]"
      ]
     },
     "execution_count": 65,
     "metadata": {},
     "output_type": "execute_result"
    }
   ],
   "source": [
    "list(np.arange(1,4,0.8))"
   ]
  },
  {
   "cell_type": "markdown",
   "id": "6e3aa4bf-9f12-49fe-b88e-0b86aa2b1962",
   "metadata": {},
   "source": [
    "#### linespace()"
   ]
  },
  {
   "cell_type": "code",
   "execution_count": 68,
   "id": "4aaa6176-0008-4370-8dce-883019aeda87",
   "metadata": {},
   "outputs": [
    {
     "data": {
      "text/plain": [
       "array([1.5       , 1.61111111, 1.72222222, 1.83333333, 1.94444444,\n",
       "       2.05555556, 2.16666667, 2.27777778, 2.38888889, 2.5       ])"
      ]
     },
     "execution_count": 68,
     "metadata": {},
     "output_type": "execute_result"
    }
   ],
   "source": [
    "## generates data in a range and we can specify the number of data needed in between the range\n",
    "np.linspace(1.5,2.5,10)"
   ]
  },
  {
   "cell_type": "code",
   "execution_count": 69,
   "id": "ecba4669-9fda-4331-9437-a0a68a3edd89",
   "metadata": {},
   "outputs": [
    {
     "data": {
      "text/plain": [
       "array([0., 0., 0., 0., 0.])"
      ]
     },
     "execution_count": 69,
     "metadata": {},
     "output_type": "execute_result"
    }
   ],
   "source": [
    "np.zeros(5)"
   ]
  },
  {
   "cell_type": "code",
   "execution_count": 71,
   "id": "e51a1e7b-9fc9-421a-aa30-63510858e9c5",
   "metadata": {},
   "outputs": [
    {
     "data": {
      "text/plain": [
       "array([[0., 0., 0., 0.],\n",
       "       [0., 0., 0., 0.],\n",
       "       [0., 0., 0., 0.]])"
      ]
     },
     "execution_count": 71,
     "metadata": {},
     "output_type": "execute_result"
    }
   ],
   "source": [
    "np.zeros((3,4))"
   ]
  },
  {
   "cell_type": "markdown",
   "id": "36db96bb-6e9b-45d6-95b5-507e5b9092e1",
   "metadata": {},
   "source": [
    "#### ones()"
   ]
  },
  {
   "cell_type": "code",
   "execution_count": 83,
   "id": "673ae1fd-51c3-4906-a095-cbb1f112de61",
   "metadata": {},
   "outputs": [],
   "source": [
    "on = np.ones((2,3))"
   ]
  },
  {
   "cell_type": "code",
   "execution_count": 84,
   "id": "bd991924-7916-476d-9b25-eaf983a5012e",
   "metadata": {},
   "outputs": [
    {
     "data": {
      "text/plain": [
       "array([[6., 6., 6.],\n",
       "       [6., 6., 6.]])"
      ]
     },
     "execution_count": 84,
     "metadata": {},
     "output_type": "execute_result"
    }
   ],
   "source": [
    "(on) + 5"
   ]
  },
  {
   "cell_type": "code",
   "execution_count": 85,
   "id": "68d1c8e2-4d20-4d9a-b34c-572b78aff3fc",
   "metadata": {},
   "outputs": [
    {
     "data": {
      "text/plain": [
       "array([[5., 5., 5.],\n",
       "       [5., 5., 5.]])"
      ]
     },
     "execution_count": 85,
     "metadata": {},
     "output_type": "execute_result"
    }
   ],
   "source": [
    "on * 5"
   ]
  },
  {
   "cell_type": "code",
   "execution_count": 76,
   "id": "a1a2d48f-0b85-4832-b195-8edfdcf6ad67",
   "metadata": {},
   "outputs": [
    {
     "data": {
      "text/plain": [
       "array([[[1., 1., 1., 1.],\n",
       "        [1., 1., 1., 1.]],\n",
       "\n",
       "       [[1., 1., 1., 1.],\n",
       "        [1., 1., 1., 1.]],\n",
       "\n",
       "       [[1., 1., 1., 1.],\n",
       "        [1., 1., 1., 1.]]])"
      ]
     },
     "execution_count": 76,
     "metadata": {},
     "output_type": "execute_result"
    }
   ],
   "source": [
    "## number of matrix,rows,colum\n",
    "np.ones((3,2,4))"
   ]
  },
  {
   "cell_type": "markdown",
   "id": "58a57910-d8ce-4e8a-bad3-5b2e3d609c0e",
   "metadata": {},
   "source": [
    "#### 4D array"
   ]
  },
  {
   "cell_type": "code",
   "execution_count": 80,
   "id": "8db95485-fc86-407d-bfd2-77d79bbe9330",
   "metadata": {},
   "outputs": [],
   "source": [
    "four_D = np.ones((2,4,2,3))"
   ]
  },
  {
   "cell_type": "code",
   "execution_count": 81,
   "id": "cbffbd4c-1391-4a8b-8c35-55be4636c796",
   "metadata": {},
   "outputs": [
    {
     "data": {
      "text/plain": [
       "4"
      ]
     },
     "execution_count": 81,
     "metadata": {},
     "output_type": "execute_result"
    }
   ],
   "source": [
    "four_D.ndim"
   ]
  },
  {
   "cell_type": "markdown",
   "id": "c60e7b37-d47d-4c90-bb86-252bd676949a",
   "metadata": {},
   "source": [
    "#### empty()\n",
    " it generates values that are negligible"
   ]
  },
  {
   "cell_type": "code",
   "execution_count": 89,
   "id": "a26a6017-a4a1-4cd1-bc1a-b3d7d57f9917",
   "metadata": {},
   "outputs": [
    {
     "data": {
      "text/plain": [
       "array([[0., 0., 0., 1., 1., 1.],\n",
       "       [2., 2., 2., 0., 1., 2.],\n",
       "       [0., 1., 2., 0., 1., 2.]])"
      ]
     },
     "execution_count": 89,
     "metadata": {},
     "output_type": "execute_result"
    }
   ],
   "source": [
    "np.empty((3,6))"
   ]
  },
  {
   "cell_type": "markdown",
   "id": "5ebca650-bf13-48d0-a987-9f8fc5b5d501",
   "metadata": {},
   "source": [
    "#### identity matrix using eye() function"
   ]
  },
  {
   "cell_type": "code",
   "execution_count": 98,
   "id": "c7eeccb5-3bea-41ec-85f7-0a74848c3bcd",
   "metadata": {},
   "outputs": [
    {
     "data": {
      "text/plain": [
       "array([[1., 0., 0., 0.],\n",
       "       [0., 1., 0., 0.],\n",
       "       [0., 0., 1., 0.],\n",
       "       [0., 0., 0., 1.]])"
      ]
     },
     "execution_count": 98,
     "metadata": {},
     "output_type": "execute_result"
    }
   ],
   "source": [
    "np.eye((4))"
   ]
  },
  {
   "cell_type": "code",
   "execution_count": 102,
   "id": "29e7bfed-f195-44f3-9610-128c1692d3dd",
   "metadata": {},
   "outputs": [
    {
     "data": {
      "text/plain": [
       "array([2.        , 2.18181818, 2.36363636, 2.54545455, 2.72727273,\n",
       "       2.90909091, 3.09090909, 3.27272727, 3.45454545, 3.63636364,\n",
       "       3.81818182, 4.        ])"
      ]
     },
     "execution_count": 102,
     "metadata": {},
     "output_type": "execute_result"
    }
   ],
   "source": [
    "np.linspace(2,4,12)"
   ]
  },
  {
   "cell_type": "code",
   "execution_count": 108,
   "id": "e20a0bf0-f58b-437d-8743-e849bafde5af",
   "metadata": {},
   "outputs": [
    {
     "data": {
      "text/plain": [
       "array([16.        , 16.81210622, 17.66543222, 18.56207018, 19.50421847,\n",
       "       20.49418704, 21.53440308, 22.627417  , 23.77590863, 24.98269383,\n",
       "       26.25073139, 27.58313028, 28.98315726, 30.4542449 , 32.        ])"
      ]
     },
     "execution_count": 108,
     "metadata": {},
     "output_type": "execute_result"
    }
   ],
   "source": [
    "\n",
    "np.logspace(4,5,15, base = 2)"
   ]
  },
  {
   "cell_type": "markdown",
   "id": "ee467944-2a51-49da-a63a-6d72715fb8ae",
   "metadata": {},
   "source": [
    "##### random.randn()   random.rand()\n",
    "\n",
    "##### random.randint()"
   ]
  },
  {
   "cell_type": "code",
   "execution_count": 110,
   "id": "6c13d156-fa98-406a-bdb4-5188efe4107d",
   "metadata": {},
   "outputs": [],
   "source": [
    "### it uses standard normal distribution\n",
    "## data generated by this will have mean = 0 std = 1\n",
    "arr = np.random.randn(3,4)"
   ]
  },
  {
   "cell_type": "code",
   "execution_count": 114,
   "id": "529da498-1f07-458a-a60c-859c38b3b4e3",
   "metadata": {},
   "outputs": [
    {
     "data": {
      "text/html": [
       "<div>\n",
       "<style scoped>\n",
       "    .dataframe tbody tr th:only-of-type {\n",
       "        vertical-align: middle;\n",
       "    }\n",
       "\n",
       "    .dataframe tbody tr th {\n",
       "        vertical-align: top;\n",
       "    }\n",
       "\n",
       "    .dataframe thead th {\n",
       "        text-align: right;\n",
       "    }\n",
       "</style>\n",
       "<table border=\"1\" class=\"dataframe\">\n",
       "  <thead>\n",
       "    <tr style=\"text-align: right;\">\n",
       "      <th></th>\n",
       "      <th>0</th>\n",
       "      <th>1</th>\n",
       "      <th>2</th>\n",
       "      <th>3</th>\n",
       "    </tr>\n",
       "  </thead>\n",
       "  <tbody>\n",
       "    <tr>\n",
       "      <th>0</th>\n",
       "      <td>0.632519</td>\n",
       "      <td>-0.145429</td>\n",
       "      <td>0.746485</td>\n",
       "      <td>0.108037</td>\n",
       "    </tr>\n",
       "    <tr>\n",
       "      <th>1</th>\n",
       "      <td>-0.119431</td>\n",
       "      <td>-0.762917</td>\n",
       "      <td>-0.423926</td>\n",
       "      <td>0.242731</td>\n",
       "    </tr>\n",
       "    <tr>\n",
       "      <th>2</th>\n",
       "      <td>1.184909</td>\n",
       "      <td>1.553525</td>\n",
       "      <td>2.220753</td>\n",
       "      <td>0.009492</td>\n",
       "    </tr>\n",
       "  </tbody>\n",
       "</table>\n",
       "</div>"
      ],
      "text/plain": [
       "          0         1         2         3\n",
       "0  0.632519 -0.145429  0.746485  0.108037\n",
       "1 -0.119431 -0.762917 -0.423926  0.242731\n",
       "2  1.184909  1.553525  2.220753  0.009492"
      ]
     },
     "execution_count": 114,
     "metadata": {},
     "output_type": "execute_result"
    }
   ],
   "source": [
    "import pandas as pd\n",
    "pd.DataFrame(arr)"
   ]
  },
  {
   "cell_type": "code",
   "execution_count": 118,
   "id": "d9c8f8f4-6c2b-44cd-8fbc-144c918b0c6d",
   "metadata": {},
   "outputs": [
    {
     "data": {
      "text/plain": [
       "array([[0.17379709, 0.25134355],\n",
       "       [0.65965607, 0.16153184],\n",
       "       [0.90466226, 0.34295079],\n",
       "       [0.9930519 , 0.67872638]])"
      ]
     },
     "execution_count": 118,
     "metadata": {},
     "output_type": "execute_result"
    }
   ],
   "source": [
    "np.random.rand(4,2)"
   ]
  },
  {
   "cell_type": "code",
   "execution_count": null,
   "id": "7a5ee35a-5982-43ee-9ab8-b3a71ecedfbb",
   "metadata": {},
   "outputs": [],
   "source": []
  },
  {
   "cell_type": "code",
   "execution_count": 122,
   "id": "3b44b717-13fe-447d-88d5-b30480ee622b",
   "metadata": {},
   "outputs": [
    {
     "data": {
      "text/plain": [
       "array([[81, 88, 19, 62],\n",
       "       [99, 21, 83, 66],\n",
       "       [73, 53, 69, 90]])"
      ]
     },
     "execution_count": 122,
     "metadata": {},
     "output_type": "execute_result"
    }
   ],
   "source": [
    "## (range,(r*w))\n",
    "np.random.randint(3,101,(3,4))"
   ]
  },
  {
   "cell_type": "markdown",
   "id": "65b09d47-43c4-4770-bd9e-7763861b4bd5",
   "metadata": {},
   "source": [
    "#### reshape()"
   ]
  },
  {
   "cell_type": "code",
   "execution_count": 24,
   "id": "81106b7e-128a-4578-bb5e-5870e91e3d20",
   "metadata": {},
   "outputs": [],
   "source": [
    "bar = np.random.rand(3,4)"
   ]
  },
  {
   "cell_type": "code",
   "execution_count": 25,
   "id": "f6dee347-3c7a-4b9b-859d-97e3899a6c0d",
   "metadata": {},
   "outputs": [
    {
     "data": {
      "text/plain": [
       "array([[0.77717842, 0.69745985],\n",
       "       [0.23120662, 0.66014983],\n",
       "       [0.68684499, 0.47527265],\n",
       "       [0.60517675, 0.59822074],\n",
       "       [0.10203118, 0.36349072],\n",
       "       [0.05592911, 0.05687428]])"
      ]
     },
     "execution_count": 25,
     "metadata": {},
     "output_type": "execute_result"
    }
   ],
   "source": [
    "b = bar.reshape(6,2)\n",
    "b"
   ]
  },
  {
   "cell_type": "code",
   "execution_count": 26,
   "id": "281c3448-cc0a-43f6-8f84-aebe317f1164",
   "metadata": {},
   "outputs": [
    {
     "data": {
      "text/plain": [
       "0.697459845267353"
      ]
     },
     "execution_count": 26,
     "metadata": {},
     "output_type": "execute_result"
    }
   ],
   "source": [
    "## row column\n",
    "b[0][1]"
   ]
  },
  {
   "cell_type": "code",
   "execution_count": 27,
   "id": "10b98e8a-a10e-4883-b841-917773de6f9a",
   "metadata": {},
   "outputs": [
    {
     "data": {
      "text/plain": [
       "array([[0.47527265],\n",
       "       [0.59822074],\n",
       "       [0.36349072]])"
      ]
     },
     "execution_count": 27,
     "metadata": {},
     "output_type": "execute_result"
    }
   ],
   "source": [
    "## rowstart:end , columns\n",
    "b[2:5,[1]]"
   ]
  },
  {
   "cell_type": "code",
   "execution_count": 162,
   "id": "04c643f2-c18e-4624-afa3-40a368ad5f29",
   "metadata": {},
   "outputs": [
    {
     "data": {
      "text/plain": [
       "array([0.82588167, 0.6628639 , 0.43251767])"
      ]
     },
     "execution_count": 162,
     "metadata": {},
     "output_type": "execute_result"
    }
   ],
   "source": [
    "b[2:5,1]"
   ]
  },
  {
   "cell_type": "code",
   "execution_count": null,
   "id": "3ce49b31-aa86-4cc5-bc39-07016a6ad494",
   "metadata": {},
   "outputs": [],
   "source": [
    "#### Condtion"
   ]
  },
  {
   "cell_type": "code",
   "execution_count": 6,
   "id": "676c8cea-b56a-4841-bfaf-1fc26ea5ac11",
   "metadata": {},
   "outputs": [],
   "source": [
    "import numpy as np\n",
    "arr = np.random.randint(1,100,(5,5))"
   ]
  },
  {
   "cell_type": "code",
   "execution_count": 9,
   "id": "3b1fd619-e3c2-4d4d-b507-73064637e0a0",
   "metadata": {},
   "outputs": [
    {
     "data": {
      "text/plain": [
       "array([96, 79, 80, 92, 86, 57, 84, 63, 94, 98, 98, 93, 80, 66, 57, 76, 86])"
      ]
     },
     "execution_count": 9,
     "metadata": {},
     "output_type": "execute_result"
    }
   ],
   "source": [
    "## condition\n",
    "arr[arr>50]"
   ]
  },
  {
   "cell_type": "code",
   "execution_count": 10,
   "id": "70007077-38b8-45d7-ba0a-8a7ef1bb842f",
   "metadata": {},
   "outputs": [
    {
     "data": {
      "text/plain": [
       "array([[96, 79, 80, 92, 86],\n",
       "       [57, 84, 63, 14, 47],\n",
       "       [94, 98, 34, 98, 39],\n",
       "       [93, 80, 66, 14, 57],\n",
       "       [50,  6, 76, 29, 86]])"
      ]
     },
     "execution_count": 10,
     "metadata": {},
     "output_type": "execute_result"
    }
   ],
   "source": [
    "arr"
   ]
  },
  {
   "cell_type": "code",
   "execution_count": 21,
   "id": "e43ecb34-12ec-4e80-a1c9-add840448b18",
   "metadata": {},
   "outputs": [
    {
     "data": {
      "text/plain": [
       "array([[98, 98],\n",
       "       [80, 14]])"
      ]
     },
     "execution_count": 21,
     "metadata": {},
     "output_type": "execute_result"
    }
   ],
   "source": [
    "arr[2:4,[1,3]]"
   ]
  },
  {
   "cell_type": "markdown",
   "id": "ad951519-8455-421b-881d-ea122628df09",
   "metadata": {},
   "source": [
    "### manupulation data, arithmetical operationss"
   ]
  },
  {
   "cell_type": "code",
   "execution_count": 28,
   "id": "392bf47a-b6bd-49e2-8478-0fb93ac50c73",
   "metadata": {},
   "outputs": [],
   "source": [
    "\n",
    "arr[0][0] = 100 "
   ]
  },
  {
   "cell_type": "code",
   "execution_count": 30,
   "id": "e6c3abd4-a6ab-4552-a7ad-db42621bc9f4",
   "metadata": {},
   "outputs": [
    {
     "data": {
      "text/plain": [
       "array([[100,  79,  80,  92,  86],\n",
       "       [ 57,  84,  63,  14,  47],\n",
       "       [ 94,  98,  34,  98,  39],\n",
       "       [ 93,  80,  66,  14,  57],\n",
       "       [ 50,   6,  76,  29,  86]])"
      ]
     },
     "execution_count": 30,
     "metadata": {},
     "output_type": "execute_result"
    }
   ],
   "source": [
    "arr"
   ]
  },
  {
   "cell_type": "code",
   "execution_count": 36,
   "id": "57b27671-fa95-4e4e-bf74-e96f04324e86",
   "metadata": {},
   "outputs": [],
   "source": [
    "arr1 = np.random.randint(1,10,(3,3))"
   ]
  },
  {
   "cell_type": "code",
   "execution_count": 39,
   "id": "a29f3b86-efff-4c1a-bad2-88302f8a5b54",
   "metadata": {},
   "outputs": [
    {
     "data": {
      "text/plain": [
       "array([[9, 5, 1],\n",
       "       [9, 6, 9],\n",
       "       [5, 9, 4]])"
      ]
     },
     "execution_count": 39,
     "metadata": {},
     "output_type": "execute_result"
    }
   ],
   "source": [
    "arr1"
   ]
  },
  {
   "cell_type": "code",
   "execution_count": 37,
   "id": "e2645c38-d893-4c88-b0da-9c9809a3d2f6",
   "metadata": {},
   "outputs": [],
   "source": [
    "arr2 = np.random.randint(1,10,(3,3))"
   ]
  },
  {
   "cell_type": "code",
   "execution_count": 40,
   "id": "ad2b5db7-b33e-412d-9c3e-5f44e0900364",
   "metadata": {},
   "outputs": [
    {
     "data": {
      "text/plain": [
       "array([[8, 6, 6],\n",
       "       [3, 2, 7],\n",
       "       [4, 4, 6]])"
      ]
     },
     "execution_count": 40,
     "metadata": {},
     "output_type": "execute_result"
    }
   ],
   "source": [
    "arr2"
   ]
  },
  {
   "cell_type": "code",
   "execution_count": 38,
   "id": "014fcbae-b572-4774-87be-5dbcdb418d18",
   "metadata": {},
   "outputs": [
    {
     "data": {
      "text/plain": [
       "array([[17, 11,  7],\n",
       "       [12,  8, 16],\n",
       "       [ 9, 13, 10]])"
      ]
     },
     "execution_count": 38,
     "metadata": {},
     "output_type": "execute_result"
    }
   ],
   "source": [
    "arr1 + arr2"
   ]
  },
  {
   "cell_type": "code",
   "execution_count": 41,
   "id": "e10f6e8b-e796-48e1-9675-23e2f2e55850",
   "metadata": {},
   "outputs": [
    {
     "data": {
      "text/plain": [
       "array([[ 1, -1, -5],\n",
       "       [ 6,  4,  2],\n",
       "       [ 1,  5, -2]])"
      ]
     },
     "execution_count": 41,
     "metadata": {},
     "output_type": "execute_result"
    }
   ],
   "source": [
    "arr1 - arr2"
   ]
  },
  {
   "cell_type": "code",
   "execution_count": 43,
   "id": "d44c040e-3ca5-4d94-90e2-7cbd19377ce6",
   "metadata": {},
   "outputs": [
    {
     "data": {
      "text/plain": [
       "array([[1.125     , 0.83333333, 0.16666667],\n",
       "       [3.        , 3.        , 1.28571429],\n",
       "       [1.25      , 2.25      , 0.66666667]])"
      ]
     },
     "execution_count": 43,
     "metadata": {},
     "output_type": "execute_result"
    }
   ],
   "source": [
    "arr1 / arr2"
   ]
  },
  {
   "cell_type": "code",
   "execution_count": 44,
   "id": "54f92e29-bb22-4eb8-9f7e-4fb08ac976e7",
   "metadata": {},
   "outputs": [
    {
     "data": {
      "text/plain": [
       "array([[72, 30,  6],\n",
       "       [27, 12, 63],\n",
       "       [20, 36, 24]])"
      ]
     },
     "execution_count": 44,
     "metadata": {},
     "output_type": "execute_result"
    }
   ],
   "source": [
    "## simple index wise multiplication\n",
    "arr1 * arr2 "
   ]
  },
  {
   "cell_type": "markdown",
   "id": "ec0c0ae9-774d-437b-a10e-f6fe44047f56",
   "metadata": {},
   "source": [
    "#### matrix multiplication"
   ]
  },
  {
   "cell_type": "code",
   "execution_count": 45,
   "id": "ed45824e-3b20-4050-b267-bc6768914906",
   "metadata": {},
   "outputs": [
    {
     "data": {
      "text/plain": [
       "array([[ 91,  68,  95],\n",
       "       [126, 102, 150],\n",
       "       [ 83,  64, 117]])"
      ]
     },
     "execution_count": 45,
     "metadata": {},
     "output_type": "execute_result"
    }
   ],
   "source": [
    "arr1@arr2"
   ]
  },
  {
   "cell_type": "code",
   "execution_count": null,
   "id": "60b5b48d-4e74-4475-877d-282e2eef9d2f",
   "metadata": {},
   "outputs": [],
   "source": []
  },
  {
   "cell_type": "code",
   "execution_count": 46,
   "id": "34757048-e371-4c66-9c9f-ee5b3d5037b9",
   "metadata": {},
   "outputs": [
    {
     "name": "stderr",
     "output_type": "stream",
     "text": [
      "/tmp/ipykernel_2356/1950694141.py:1: RuntimeWarning: divide by zero encountered in divide\n",
      "  arr1 / 0\n"
     ]
    },
    {
     "data": {
      "text/plain": [
       "array([[inf, inf, inf],\n",
       "       [inf, inf, inf],\n",
       "       [inf, inf, inf]])"
      ]
     },
     "execution_count": 46,
     "metadata": {},
     "output_type": "execute_result"
    }
   ],
   "source": [
    "arr1 / 0 "
   ]
  },
  {
   "cell_type": "code",
   "execution_count": 47,
   "id": "9e19b1d1-73d6-4be7-b271-9e304e467006",
   "metadata": {},
   "outputs": [
    {
     "data": {
      "text/plain": [
       "array([[109, 105, 101],\n",
       "       [109, 106, 109],\n",
       "       [105, 109, 104]])"
      ]
     },
     "execution_count": 47,
     "metadata": {},
     "output_type": "execute_result"
    }
   ],
   "source": [
    "arr1 + 100"
   ]
  },
  {
   "cell_type": "code",
   "execution_count": 48,
   "id": "5266354f-a2f8-48c0-86c3-a31321713053",
   "metadata": {},
   "outputs": [
    {
     "data": {
      "text/plain": [
       "array([[81, 25,  1],\n",
       "       [81, 36, 81],\n",
       "       [25, 81, 16]])"
      ]
     },
     "execution_count": 48,
     "metadata": {},
     "output_type": "execute_result"
    }
   ],
   "source": [
    "arr1 ** 2"
   ]
  },
  {
   "cell_type": "code",
   "execution_count": null,
   "id": "5362164f-c753-46e7-bccd-c2766cbd7c2e",
   "metadata": {},
   "outputs": [],
   "source": []
  },
  {
   "cell_type": "markdown",
   "id": "382884f8-c7f7-456c-bfb6-187ffa28dd10",
   "metadata": {},
   "source": [
    "#### broadcasting\n",
    "it means adding the data row wise"
   ]
  },
  {
   "cell_type": "code",
   "execution_count": 49,
   "id": "ce6ef5e0-ccf3-43b1-9309-c1ee81f7860b",
   "metadata": {},
   "outputs": [],
   "source": [
    "ar = np.zeros((4,4))"
   ]
  },
  {
   "cell_type": "code",
   "execution_count": 50,
   "id": "e9b6fdd1-4f4a-4575-9f5d-7b5621b983c9",
   "metadata": {},
   "outputs": [
    {
     "data": {
      "text/plain": [
       "array([[0., 0., 0., 0.],\n",
       "       [0., 0., 0., 0.],\n",
       "       [0., 0., 0., 0.],\n",
       "       [0., 0., 0., 0.]])"
      ]
     },
     "execution_count": 50,
     "metadata": {},
     "output_type": "execute_result"
    }
   ],
   "source": [
    "ar"
   ]
  },
  {
   "cell_type": "code",
   "execution_count": 51,
   "id": "f5fa5e61-39f0-40b6-9c68-cbaf66fc4111",
   "metadata": {},
   "outputs": [],
   "source": [
    "row = np.array([1,2,3,4])"
   ]
  },
  {
   "cell_type": "code",
   "execution_count": 52,
   "id": "6e1b8e99-d786-4bcc-97e3-b9478c9c174b",
   "metadata": {},
   "outputs": [
    {
     "data": {
      "text/plain": [
       "array([1, 2, 3, 4])"
      ]
     },
     "execution_count": 52,
     "metadata": {},
     "output_type": "execute_result"
    }
   ],
   "source": [
    "row"
   ]
  },
  {
   "cell_type": "code",
   "execution_count": 53,
   "id": "0241f951-81a1-440b-b6b2-ddac14bbd2f9",
   "metadata": {},
   "outputs": [
    {
     "data": {
      "text/plain": [
       "array([[1., 2., 3., 4.],\n",
       "       [1., 2., 3., 4.],\n",
       "       [1., 2., 3., 4.],\n",
       "       [1., 2., 3., 4.]])"
      ]
     },
     "execution_count": 53,
     "metadata": {},
     "output_type": "execute_result"
    }
   ],
   "source": [
    "ar + row"
   ]
  },
  {
   "cell_type": "code",
   "execution_count": 57,
   "id": "1c9b0daf-2e0a-4379-b5e4-58cf71ed3639",
   "metadata": {},
   "outputs": [
    {
     "data": {
      "text/plain": [
       "array([1, 2, 3, 4])"
      ]
     },
     "execution_count": 57,
     "metadata": {},
     "output_type": "execute_result"
    }
   ],
   "source": [
    "## one dimensional array cannot be transposed\n",
    "row.T"
   ]
  },
  {
   "cell_type": "code",
   "execution_count": 64,
   "id": "8382e0dd-91ce-4720-9a42-4146663b6768",
   "metadata": {},
   "outputs": [],
   "source": [
    "## passid the data inside list\n",
    "col =  np.array([[1,2,3,4]])"
   ]
  },
  {
   "cell_type": "code",
   "execution_count": 65,
   "id": "75df8745-5438-4afc-950b-5ec3e167de60",
   "metadata": {},
   "outputs": [
    {
     "data": {
      "text/plain": [
       "array([[1],\n",
       "       [2],\n",
       "       [3],\n",
       "       [4]])"
      ]
     },
     "execution_count": 65,
     "metadata": {},
     "output_type": "execute_result"
    }
   ],
   "source": [
    "col.T"
   ]
  },
  {
   "cell_type": "code",
   "execution_count": 66,
   "id": "79032f7f-d28a-4ab7-aeda-11ba731a4594",
   "metadata": {},
   "outputs": [
    {
     "data": {
      "text/plain": [
       "(1, 4)"
      ]
     },
     "execution_count": 66,
     "metadata": {},
     "output_type": "execute_result"
    }
   ],
   "source": [
    "col.shape"
   ]
  },
  {
   "cell_type": "code",
   "execution_count": 67,
   "id": "69ba4c3c-d80f-45e3-8392-d1d7f12c5a21",
   "metadata": {},
   "outputs": [
    {
     "data": {
      "text/plain": [
       "array([[1., 2., 3., 4.],\n",
       "       [1., 2., 3., 4.],\n",
       "       [1., 2., 3., 4.],\n",
       "       [1., 2., 3., 4.]])"
      ]
     },
     "execution_count": 67,
     "metadata": {},
     "output_type": "execute_result"
    }
   ],
   "source": [
    "ar + col"
   ]
  },
  {
   "cell_type": "code",
   "execution_count": null,
   "id": "c8fdd7e7-c354-4307-ab52-198fe4104253",
   "metadata": {},
   "outputs": [],
   "source": []
  },
  {
   "cell_type": "code",
   "execution_count": 69,
   "id": "7fb6fcbc-2933-4d96-8e73-d1d8a90d8288",
   "metadata": {},
   "outputs": [],
   "source": [
    "ar1 = np.random.randint(1,4,(3,4))"
   ]
  },
  {
   "cell_type": "code",
   "execution_count": 70,
   "id": "39ce4211-cf36-45dc-ae81-6ee11bdc01d8",
   "metadata": {},
   "outputs": [
    {
     "data": {
      "text/plain": [
       "array([[2, 1, 2, 2],\n",
       "       [3, 3, 3, 1],\n",
       "       [1, 3, 1, 1]])"
      ]
     },
     "execution_count": 70,
     "metadata": {},
     "output_type": "execute_result"
    }
   ],
   "source": [
    "ar1"
   ]
  },
  {
   "cell_type": "code",
   "execution_count": 71,
   "id": "7aa5aefb-5dc2-4691-8c55-e74a22c1090b",
   "metadata": {},
   "outputs": [
    {
     "data": {
      "text/plain": [
       "array([[1.41421356, 1.        , 1.41421356, 1.41421356],\n",
       "       [1.73205081, 1.73205081, 1.73205081, 1.        ],\n",
       "       [1.        , 1.73205081, 1.        , 1.        ]])"
      ]
     },
     "execution_count": 71,
     "metadata": {},
     "output_type": "execute_result"
    }
   ],
   "source": [
    "np.sqrt(ar1)"
   ]
  },
  {
   "cell_type": "code",
   "execution_count": 72,
   "id": "0360ccde-cd36-4142-98d6-07813272e99a",
   "metadata": {},
   "outputs": [
    {
     "data": {
      "text/plain": [
       "array([[ 7.3890561 ,  2.71828183,  7.3890561 ,  7.3890561 ],\n",
       "       [20.08553692, 20.08553692, 20.08553692,  2.71828183],\n",
       "       [ 2.71828183, 20.08553692,  2.71828183,  2.71828183]])"
      ]
     },
     "execution_count": 72,
     "metadata": {},
     "output_type": "execute_result"
    }
   ],
   "source": [
    "np.exp(ar1)"
   ]
  },
  {
   "cell_type": "code",
   "execution_count": 74,
   "id": "bdf05cfc-d372-4352-9402-752bfc0e2c77",
   "metadata": {},
   "outputs": [
    {
     "data": {
      "text/plain": [
       "array([[0.95424251, 0.69897   , 0.        ],\n",
       "       [0.95424251, 0.77815125, 0.95424251],\n",
       "       [0.69897   , 0.95424251, 0.60205999]])"
      ]
     },
     "execution_count": 74,
     "metadata": {},
     "output_type": "execute_result"
    }
   ],
   "source": [
    "np.log10(arr1)"
   ]
  },
  {
   "cell_type": "code",
   "execution_count": null,
   "id": "8ed7c0f1-9a85-46e2-82e2-06a9b91b54eb",
   "metadata": {},
   "outputs": [],
   "source": []
  }
 ],
 "metadata": {
  "kernelspec": {
   "display_name": "Python 3 (ipykernel)",
   "language": "python",
   "name": "python3"
  },
  "language_info": {
   "codemirror_mode": {
    "name": "ipython",
    "version": 3
   },
   "file_extension": ".py",
   "mimetype": "text/x-python",
   "name": "python",
   "nbconvert_exporter": "python",
   "pygments_lexer": "ipython3",
   "version": "3.10.8"
  }
 },
 "nbformat": 4,
 "nbformat_minor": 5
}
