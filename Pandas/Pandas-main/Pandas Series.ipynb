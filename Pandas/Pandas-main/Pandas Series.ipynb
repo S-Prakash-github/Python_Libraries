{
 "cells": [
  {
   "cell_type": "markdown",
   "id": "7f98f631",
   "metadata": {},
   "source": [
    "### Pandas Series:-"
   ]
  },
  {
   "cell_type": "markdown",
   "id": "624ea595",
   "metadata": {},
   "source": [
    "The pandas Series is a one-Dimensional data structure, it is a similar kind of one-Dimensional ndarray, and is capable of holding homogeneous elements with any data type. It can store integers, strings, floating-point numbers, Python objects, etc."
   ]
  },
  {
   "cell_type": "markdown",
   "id": "5eabf233",
   "metadata": {},
   "source": [
    "  "
   ]
  },
  {
   "cell_type": "markdown",
   "id": "ea95d30c",
   "metadata": {},
   "source": [
    "1. Write a Pandas program to create and display a one-dimensional array-like object containing an array of data using Pandas module."
   ]
  },
  {
   "cell_type": "code",
   "execution_count": 13,
   "id": "7c4aa3ee",
   "metadata": {},
   "outputs": [
    {
     "name": "stdout",
     "output_type": "stream",
     "text": [
      "0    1\n",
      "1    2\n",
      "2    3\n",
      "3    4\n",
      "4    5\n",
      "dtype: int64\n"
     ]
    }
   ],
   "source": [
    "import pandas as pd\n",
    "data = pd.Series([1,2,3,4,5])\n",
    "print(data)"
   ]
  },
  {
   "cell_type": "markdown",
   "id": "cef77c15",
   "metadata": {},
   "source": [
    "------------------------------------------------------------------------------------------------------------------------------- "
   ]
  },
  {
   "cell_type": "markdown",
   "id": "45883991",
   "metadata": {},
   "source": [
    "2. Write a Pandas program to convert a Panda module Series to Python list and it's type."
   ]
  },
  {
   "cell_type": "code",
   "execution_count": null,
   "id": "c6dc4362",
   "metadata": {},
   "outputs": [],
   "source": [
    "list_series = list(data)\n",
    "print(type(list_series))"
   ]
  },
  {
   "cell_type": "markdown",
   "id": "53ed6aee",
   "metadata": {},
   "source": [
    "-------------------------------------------------------------------------------------------------------------------------------"
   ]
  },
  {
   "cell_type": "markdown",
   "id": "cdbfd1cc",
   "metadata": {},
   "source": [
    "#### 3. Write a Pandas program to compare the elements of the two Pandas Series.Sample Series: [2, 4, 6, 8, 10], [1, 3, 5, 7, 10]"
   ]
  },
  {
   "cell_type": "code",
   "execution_count": null,
   "id": "71edcc5f",
   "metadata": {},
   "outputs": [],
   "source": [
    "a = pd.Series([2,4,6,8,10])\n",
    "b = pd.Series([1,3,5,7,10])\n",
    "print(a>b)\n",
    "print(a<b)\n",
    "print(a==b)"
   ]
  },
  {
   "cell_type": "markdown",
   "id": "51876794",
   "metadata": {},
   "source": [
    "4.Write a Pandas program to convert a dictionary to a Pandas series.\n",
    "Sample Series:\n",
    ">{'a': 100, 'b': 200, 'c': 300, 'd': 400, 'e': 800}\n",
    "Converted series:\n",
    "a 100\n",
    "b 200\n",
    "c 300\n",
    "d 400\n",
    "e 800\n",
    "dtype: int64"
   ]
  },
  {
   "cell_type": "code",
   "execution_count": null,
   "id": "9194193a",
   "metadata": {},
   "outputs": [],
   "source": [
    "dict_ = {'a': 100, 'b': 200, 'c': 300, 'd': 400, 'e': 800}\n",
    "dict_into_series = pd.Series(dict_)\n",
    "print(dict_into_series)"
   ]
  },
  {
   "cell_type": "markdown",
   "id": "b8d4f609",
   "metadata": {},
   "source": [
    "  \n",
    "  \n",
    "  \n"
   ]
  },
  {
   "cell_type": "markdown",
   "id": "16b6710a",
   "metadata": {},
   "source": [
    "5. Write a Pandas program to convert a NumPy array to a Pandas series.\n",
    "Sample Series:\n",
    "> NumPy array:\n",
    "[10 20 30 40 50]"
   ]
  },
  {
   "cell_type": "code",
   "execution_count": null,
   "id": "72bc46da",
   "metadata": {},
   "outputs": [],
   "source": [
    "import numpy as np\n",
    "array = np.array([10,20,30,40,50])\n",
    "array_series = pd.Series(array)\n",
    "print(array_series)"
   ]
  },
  {
   "cell_type": "markdown",
   "id": "83c6d078",
   "metadata": {},
   "source": [
    "6.Write a Pandas program to convert the first column of a DataFrame as a Series.\n",
    "> Original DataFrame\n",
    "col1 col2 col3\n",
    "0 1 4 7\n",
    "1 2 5 5\n",
    "2 3 6 8\n",
    "3 4 9 12\n",
    "4 7 5 1\n",
    "5 11 0 11"
   ]
  },
  {
   "cell_type": "code",
   "execution_count": 24,
   "id": "e25eca35",
   "metadata": {},
   "outputs": [
    {
     "name": "stdout",
     "output_type": "stream",
     "text": [
      "<class 'pandas.core.frame.DataFrame'>\n",
      "<class 'pandas.core.series.Series'>\n"
     ]
    },
    {
     "data": {
      "text/plain": [
       "0     1\n",
       "1     2\n",
       "2     3\n",
       "3     4\n",
       "4     7\n",
       "5    11\n",
       "Name: col1, dtype: int64"
      ]
     },
     "execution_count": 24,
     "metadata": {},
     "output_type": "execute_result"
    }
   ],
   "source": [
    "dict_1 = {'col1':[1,2,3,4,7,11],'col2':[4,5,6,9,5,0],'col3':[7,5,8,12,1,11]}\n",
    "data_frame = pd.DataFrame(dict_1)\n",
    "print(type(data_frame))\n",
    "\n",
    "s1 = pd.Series(data_frame[\"col1\"])\n",
    "\n",
    "print(type(s1))\n",
    "s1"
   ]
  },
  {
   "cell_type": "markdown",
   "id": "419ce68a",
   "metadata": {},
   "source": [
    "7. Write a Pandas program to add some data to an existing Series.\n",
    "\n",
    "> 0 100\n",
    "  1 200\n",
    "  2 python\n",
    "  3 300.12\n",
    "  4 400"
   ]
  },
  {
   "cell_type": "code",
   "execution_count": 7,
   "id": "12a48a2c",
   "metadata": {},
   "outputs": [
    {
     "name": "stdout",
     "output_type": "stream",
     "text": [
      "0        100\n",
      "1        200\n",
      "2     python\n",
      "3     300.12\n",
      "4        400\n",
      "0       1000\n",
      "1       1114\n",
      "2    prakash\n",
      "dtype: object\n"
     ]
    }
   ],
   "source": [
    "import warnings\n",
    "warnings.filterwarnings('ignore')\n",
    "series = pd.Series([100,200,\"python\",300.12,400])\n",
    "series_updated = series.append( pd.Series([1000,1114,\"prakash\"]))\n",
    "print(series_updated)"
   ]
  },
  {
   "cell_type": "markdown",
   "id": "c6b206e7",
   "metadata": {},
   "source": [
    "7. Write a Pandas program to create a subset of a given series based on value and condition. Go to the editor\n",
    "\n",
    ">Sample Output:\n",
    "Original Data Series:\n",
    "0 0\n",
    "1 1\n",
    "2 2\n",
    "3 3\n",
    "4 4\n",
    "5 5\n",
    "6 6\n",
    "7 7\n",
    "8 8\n",
    "9 9\n",
    "10 10\n",
    "dtype: int64\n",
    "\n",
    ">Subset of the above Data Series:\n",
    "0 0\n",
    "1 1\n",
    "2 2\n",
    "3 3\n",
    "4 4\n",
    "5 5\n",
    "dtype: int64"
   ]
  },
  {
   "cell_type": "code",
   "execution_count": 17,
   "id": "e5fcdafe",
   "metadata": {},
   "outputs": [
    {
     "name": "stdout",
     "output_type": "stream",
     "text": [
      "0    1\n",
      "1    2\n",
      "2    3\n",
      "3    4\n",
      "4    5\n",
      "dtype: int64\n"
     ]
    }
   ],
   "source": [
    "series_data = pd.Series([1,2,3,4,5,6,7,8,9,10])\n",
    "series_condition = series_data[series_data <6]\n",
    "print(series_condition)"
   ]
  },
  {
   "cell_type": "markdown",
   "id": "45199444",
   "metadata": {},
   "source": [
    "#### 8. Write a Pandas program to convert a dictionary to a Pandas series. Go to the editor\n",
    "Sample Series:\n",
    "\n",
    "Original dictionary:\n",
    "\n",
    "{'a': 100, 'b': 200, 'c': 300, 'd': 400, 'e': 800}\n",
    "\n",
    "\n",
    "Converted series:\n",
    "a 100\n",
    "b 200\n",
    "c 300\n",
    "d 400\n",
    "e 800\n",
    "dtype: int64"
   ]
  },
  {
   "cell_type": "code",
   "execution_count": 14,
   "id": "beb4a688",
   "metadata": {},
   "outputs": [
    {
     "data": {
      "text/plain": [
       "a    100\n",
       "b    200\n",
       "c    300\n",
       "d    400\n",
       "e    800\n",
       "dtype: int64"
      ]
     },
     "execution_count": 14,
     "metadata": {},
     "output_type": "execute_result"
    }
   ],
   "source": [
    "import pandas as pd\n",
    "series = {'a': 100, 'b': 200, 'c': 300, 'd': 400, 'e': 800}\n",
    "pd.Series(series)"
   ]
  },
  {
   "cell_type": "markdown",
   "id": "cc05a112",
   "metadata": {},
   "source": [
    "#### 9.Write a Pandas program to change the data type of given a column or a Series."
   ]
  },
  {
   "cell_type": "code",
   "execution_count": 14,
   "id": "0dabf1ca",
   "metadata": {},
   "outputs": [
    {
     "data": {
      "text/plain": [
       "0    100.00\n",
       "1    200.00\n",
       "2       NaN\n",
       "3    300.12\n",
       "4    400.00\n",
       "dtype: float64"
      ]
     },
     "execution_count": 14,
     "metadata": {},
     "output_type": "execute_result"
    }
   ],
   "source": [
    "series = pd.Series([100,200,\"python\",300.12,400])\n",
    "s1 = pd.to_numeric(series,errors = 'coerce')\n",
    "s1"
   ]
  },
  {
   "cell_type": "markdown",
   "id": "dba47455",
   "metadata": {},
   "source": [
    "#### 10 . Write a Pandas program to convert a given Series to an array"
   ]
  },
  {
   "cell_type": "code",
   "execution_count": 27,
   "id": "f16c82fe",
   "metadata": {},
   "outputs": [],
   "source": [
    "import numpy as np\n",
    "s = np.array(series)\n"
   ]
  },
  {
   "cell_type": "markdown",
   "id": "f3f57773",
   "metadata": {},
   "source": [
    "#### 11.Write a Pandas program to convert Series of lists to one Series"
   ]
  },
  {
   "cell_type": "code",
   "execution_count": 32,
   "id": "e4c8f4a0",
   "metadata": {},
   "outputs": [],
   "source": [
    "list_s = [[\"Raj\", \"Singh\" , \"Rahul\"],[1,23,1,4],[10.00,18.0,90.02,88]]"
   ]
  },
  {
   "cell_type": "code",
   "execution_count": 37,
   "id": "c65066a6",
   "metadata": {},
   "outputs": [
    {
     "data": {
      "text/plain": [
       "0       Raj\n",
       "1     Singh\n",
       "2     Rahul\n",
       "3         1\n",
       "4        23\n",
       "5         1\n",
       "6       4.0\n",
       "7      10.0\n",
       "8      18.0\n",
       "9     90.02\n",
       "10     88.0\n",
       "dtype: object"
      ]
     },
     "execution_count": 37,
     "metadata": {},
     "output_type": "execute_result"
    }
   ],
   "source": [
    "series = pd.Series(list_s)\n",
    "## series.apply is used to split the iterable objects into different columns\n",
    "## stack() is used to stack multiple columns \n",
    "s = series.apply(pd.Series).stack().reset_index(drop = True)\n",
    "s                        "
   ]
  },
  {
   "cell_type": "markdown",
   "id": "ceef97a5",
   "metadata": {},
   "source": [
    "#### 12. program to sort values in a series"
   ]
  },
  {
   "cell_type": "code",
   "execution_count": 48,
   "id": "2986da89",
   "metadata": {},
   "outputs": [
    {
     "data": {
      "text/plain": [
       "3      1.00\n",
       "5      1.00\n",
       "6      4.00\n",
       "7     10.00\n",
       "8     18.00\n",
       "4     23.00\n",
       "10    88.00\n",
       "9     90.02\n",
       "0       NaN\n",
       "1       NaN\n",
       "2       NaN\n",
       "dtype: float64"
      ]
     },
     "execution_count": 48,
     "metadata": {},
     "output_type": "execute_result"
    }
   ],
   "source": [
    "s1 = pd.to_numeric(s,errors = \"coerce\")\n",
    "sorted_s = pd.Series(s1).sort_values()\n",
    "sorted_s"
   ]
  },
  {
   "cell_type": "code",
   "execution_count": 50,
   "id": "a75aa2b5",
   "metadata": {
    "scrolled": true
   },
   "outputs": [
    {
     "data": {
      "text/plain": [
       "0       100\n",
       "1       200\n",
       "3    300.12\n",
       "4       400\n",
       "2    python\n",
       "dtype: object"
      ]
     },
     "execution_count": 50,
     "metadata": {},
     "output_type": "execute_result"
    }
   ],
   "source": [
    "s = pd.Series(['100', '200', 'python', '300.12', '400'])\n",
    "s.sort_values()"
   ]
  },
  {
   "cell_type": "code",
   "execution_count": null,
   "id": "839a47d7",
   "metadata": {},
   "outputs": [],
   "source": []
  },
  {
   "cell_type": "markdown",
   "id": "8b135440",
   "metadata": {},
   "source": [
    "#### 13. Write a Pandas program to change the order of index of a given series. "
   ]
  },
  {
   "cell_type": "code",
   "execution_count": 67,
   "id": "6d7e2533",
   "metadata": {},
   "outputs": [
    {
     "data": {
      "text/plain": [
       "A    1\n",
       "B    2\n",
       "C    3\n",
       "D    4\n",
       "E    5\n",
       "dtype: int64"
      ]
     },
     "execution_count": 67,
     "metadata": {},
     "output_type": "execute_result"
    }
   ],
   "source": [
    "s = pd.Series(data = [1,2,3,4,5], index = ['A', 'B', 'C','D','E'])\n",
    "s"
   ]
  },
  {
   "cell_type": "code",
   "execution_count": 66,
   "id": "10dd7292",
   "metadata": {},
   "outputs": [
    {
     "data": {
      "text/plain": [
       "B    2\n",
       "A    1\n",
       "C    3\n",
       "D    4\n",
       "E    5\n",
       "dtype: int64"
      ]
     },
     "execution_count": 66,
     "metadata": {},
     "output_type": "execute_result"
    }
   ],
   "source": [
    "s = s.reindex(index = ['B','A','C','D','E'])\n",
    "s"
   ]
  },
  {
   "cell_type": "markdown",
   "id": "9aa8ffd3",
   "metadata": {},
   "source": [
    "#### 14.Write a Pandas program to create the mean and standard deviation of the data of a given Series"
   ]
  },
  {
   "cell_type": "code",
   "execution_count": 70,
   "id": "94daa41f",
   "metadata": {},
   "outputs": [],
   "source": [
    "list_s = pd.Series([1,23,1,4,10.00,18.0,90.02,88])"
   ]
  },
  {
   "cell_type": "code",
   "execution_count": 75,
   "id": "98d75a75",
   "metadata": {},
   "outputs": [
    {
     "name": "stdout",
     "output_type": "stream",
     "text": [
      "29.377499999999998 mean\n",
      "37.63414169910842 standard deviation\n"
     ]
    }
   ],
   "source": [
    "print(list_s.mean(),\"mean\")\n",
    "print(list_s.std(),\"standard deviation\")"
   ]
  },
  {
   "cell_type": "markdown",
   "id": "e3d709fb",
   "metadata": {},
   "source": [
    "#### 15. Write a Pandas program to find the index of the first occurrence of the smallest and largest value of a given series"
   ]
  },
  {
   "cell_type": "code",
   "execution_count": 87,
   "id": "3425027f",
   "metadata": {},
   "outputs": [
    {
     "name": "stdout",
     "output_type": "stream",
     "text": [
      "0 first occurrence of minimum number\n",
      "6 first occurrence of maximum number\n"
     ]
    }
   ],
   "source": [
    "list_s = pd.Series([1,23,1,4,10.00,18.0,90.02,88])\n",
    "print(list_s.idxmin(),\"first occurrence of minimum number\")\n",
    "print(list_s.idxmax(),\"first occurrence of maximum number\")       "
   ]
  },
  {
   "cell_type": "code",
   "execution_count": 88,
   "id": "04b6d727",
   "metadata": {},
   "outputs": [],
   "source": [
    "#### 16. find equality of two series"
   ]
  },
  {
   "cell_type": "code",
   "execution_count": 90,
   "id": "e22ef919",
   "metadata": {},
   "outputs": [
    {
     "data": {
      "text/plain": [
       "0    True\n",
       "1    True\n",
       "2    True\n",
       "3    True\n",
       "4    True\n",
       "5    True\n",
       "6    True\n",
       "7    True\n",
       "dtype: bool"
      ]
     },
     "execution_count": 90,
     "metadata": {},
     "output_type": "execute_result"
    }
   ],
   "source": [
    "list_s = pd.Series([1,23,1,4,10.00,18.0,90.02,88])\n",
    "list_r = pd.Series([1,23,1,4,10.00,18.0,90.02,88])\n",
    "list_s == list_r"
   ]
  },
  {
   "cell_type": "markdown",
   "id": "b0e86d5a",
   "metadata": {},
   "source": [
    "#### 17. stack two given list verically and horizontally"
   ]
  },
  {
   "cell_type": "code",
   "execution_count": 93,
   "id": "4d35f2e8",
   "metadata": {},
   "outputs": [
    {
     "data": {
      "text/html": [
       "<div>\n",
       "<style scoped>\n",
       "    .dataframe tbody tr th:only-of-type {\n",
       "        vertical-align: middle;\n",
       "    }\n",
       "\n",
       "    .dataframe tbody tr th {\n",
       "        vertical-align: top;\n",
       "    }\n",
       "\n",
       "    .dataframe thead th {\n",
       "        text-align: right;\n",
       "    }\n",
       "</style>\n",
       "<table border=\"1\" class=\"dataframe\">\n",
       "  <thead>\n",
       "    <tr style=\"text-align: right;\">\n",
       "      <th></th>\n",
       "      <th>0</th>\n",
       "      <th>1</th>\n",
       "    </tr>\n",
       "  </thead>\n",
       "  <tbody>\n",
       "    <tr>\n",
       "      <th>0</th>\n",
       "      <td>1.00</td>\n",
       "      <td>1.00</td>\n",
       "    </tr>\n",
       "    <tr>\n",
       "      <th>1</th>\n",
       "      <td>23.00</td>\n",
       "      <td>23.00</td>\n",
       "    </tr>\n",
       "    <tr>\n",
       "      <th>2</th>\n",
       "      <td>1.00</td>\n",
       "      <td>1.00</td>\n",
       "    </tr>\n",
       "    <tr>\n",
       "      <th>3</th>\n",
       "      <td>4.00</td>\n",
       "      <td>4.00</td>\n",
       "    </tr>\n",
       "    <tr>\n",
       "      <th>4</th>\n",
       "      <td>10.00</td>\n",
       "      <td>10.00</td>\n",
       "    </tr>\n",
       "    <tr>\n",
       "      <th>5</th>\n",
       "      <td>18.00</td>\n",
       "      <td>18.00</td>\n",
       "    </tr>\n",
       "    <tr>\n",
       "      <th>6</th>\n",
       "      <td>90.02</td>\n",
       "      <td>90.02</td>\n",
       "    </tr>\n",
       "    <tr>\n",
       "      <th>7</th>\n",
       "      <td>88.00</td>\n",
       "      <td>88.00</td>\n",
       "    </tr>\n",
       "  </tbody>\n",
       "</table>\n",
       "</div>"
      ],
      "text/plain": [
       "       0      1\n",
       "0   1.00   1.00\n",
       "1  23.00  23.00\n",
       "2   1.00   1.00\n",
       "3   4.00   4.00\n",
       "4  10.00  10.00\n",
       "5  18.00  18.00\n",
       "6  90.02  90.02\n",
       "7  88.00  88.00"
      ]
     },
     "execution_count": 93,
     "metadata": {},
     "output_type": "execute_result"
    }
   ],
   "source": [
    "pd.concat([list_s,list_r],axis = True)"
   ]
  },
  {
   "cell_type": "code",
   "execution_count": 95,
   "id": "48d80c66",
   "metadata": {},
   "outputs": [
    {
     "data": {
      "text/plain": [
       "0     1.00\n",
       "1    23.00\n",
       "2     1.00\n",
       "3     4.00\n",
       "4    10.00\n",
       "5    18.00\n",
       "6    90.02\n",
       "7    88.00\n",
       "0     1.00\n",
       "1    23.00\n",
       "2     1.00\n",
       "3     4.00\n",
       "4    10.00\n",
       "5    18.00\n",
       "6    90.02\n",
       "7    88.00\n",
       "dtype: float64"
      ]
     },
     "execution_count": 95,
     "metadata": {},
     "output_type": "execute_result"
    }
   ],
   "source": [
    "pd.concat([list_s,list_r],axis = 0)"
   ]
  },
  {
   "cell_type": "markdown",
   "id": "e8cfab1f",
   "metadata": {},
   "source": [
    "#### 18 Write a Pandas program to find the positions of numbers that are multiples of 5 of a given series."
   ]
  },
  {
   "cell_type": "code",
   "execution_count": 42,
   "id": "a4b777bc",
   "metadata": {},
   "outputs": [
    {
     "name": "stdout",
     "output_type": "stream",
     "text": [
      "(array([0, 2, 3], dtype=int64),)\n"
     ]
    }
   ],
   "source": [
    "import numpy as np\n",
    "series = pd.Series([5,88,55,10,29,13,1])\n",
    "multiple = np.where(series% 5 == 0 )\n",
    "print(multiple)"
   ]
  },
  {
   "cell_type": "markdown",
   "id": "26985b09",
   "metadata": {},
   "source": [
    "#### 19 Write a Pandas program to extract items at given positions of a given series"
   ]
  },
  {
   "cell_type": "code",
   "execution_count": 8,
   "id": "ce9d5f3a",
   "metadata": {},
   "outputs": [
    {
     "data": {
      "text/plain": [
       "[1, slice(4, 7, None), 7, 8]"
      ]
     },
     "execution_count": 8,
     "metadata": {},
     "output_type": "execute_result"
    }
   ],
   "source": [
    "import pandas as pd\n",
    "s = pd.Series([1,2,3,4,8,8,8,9,89])\n",
    "s1 = pd.Series([2,8,9,89])\n",
    "result = [pd.Index(s,).get_loc(i) for i in s1]\n",
    "result"
   ]
  },
  {
   "cell_type": "code",
   "execution_count": 12,
   "id": "fdcc61ad",
   "metadata": {},
   "outputs": [
    {
     "data": {
      "text/plain": [
       "0    7\n",
       "1    5\n",
       "2    6\n",
       "dtype: int64"
      ]
     },
     "execution_count": 12,
     "metadata": {},
     "output_type": "execute_result"
    }
   ],
   "source": [
    "s = pd.Series([\"prakash\",\"singh\",\"string\"])\n",
    "slen = pd.Series([len(i) for i in s])\n",
    "slen"
   ]
  },
  {
   "cell_type": "code",
   "execution_count": 14,
   "id": "c14b0e0b",
   "metadata": {
    "scrolled": true
   },
   "outputs": [
    {
     "data": {
      "text/plain": [
       "0    7\n",
       "1    5\n",
       "2    6\n",
       "dtype: int64"
      ]
     },
     "execution_count": 14,
     "metadata": {},
     "output_type": "execute_result"
    }
   ],
   "source": [
    "slen = s.map(lambda x: len(x))\n",
    "slen"
   ]
  },
  {
   "cell_type": "markdown",
   "id": "8aaf7f45",
   "metadata": {},
   "source": [
    "#### 20 Write a Pandas program to compute difference of differences between consecutive numbers of a given series."
   ]
  },
  {
   "cell_type": "code",
   "execution_count": 26,
   "id": "6b3e8dfd",
   "metadata": {},
   "outputs": [
    {
     "name": "stdout",
     "output_type": "stream",
     "text": [
      "[nan, 3.0, 3.0, 2.0, 3.0]\n",
      "0    NaN\n",
      "1    3.0\n",
      "2    3.0\n",
      "3    2.0\n",
      "4    3.0\n",
      "dtype: float64\n",
      "0    NaN\n",
      "1    NaN\n",
      "2    0.0\n",
      "3   -1.0\n",
      "4    1.0\n",
      "dtype: float64\n"
     ]
    }
   ],
   "source": [
    "s = pd.Series([1,4,7,9,12])\n",
    "num = [0]\n",
    "print(s.diff().tolist())\n",
    "print(s.diff())\n",
    "print(s.diff().diff())"
   ]
  },
  {
   "cell_type": "markdown",
   "id": "784522f3",
   "metadata": {},
   "source": [
    "#### 21 Write a Pandas program to convert a series of date strings to a timeseries"
   ]
  },
  {
   "cell_type": "code",
   "execution_count": 29,
   "id": "1e7f4bfa",
   "metadata": {},
   "outputs": [
    {
     "data": {
      "text/plain": [
       "0   2015-01-01 00:00:00\n",
       "1   2016-10-02 00:00:00\n",
       "2   2018-03-07 00:00:00\n",
       "3   2014-05-06 00:00:00\n",
       "4   2016-04-12 00:00:00\n",
       "5   2019-04-06 11:20:00\n",
       "dtype: datetime64[ns]"
      ]
     },
     "execution_count": 29,
     "metadata": {},
     "output_type": "execute_result"
    }
   ],
   "source": [
    "time_series = pd.Series([\"1 Jan 2015\",\"10-02-2016\",\"20180307\",\"2014/05/06\",\"2016-04-12\",\"2019-04-06T11:20\"])\n",
    "time = pd.to_datetime(time_series)\n",
    "time"
   ]
  },
  {
   "cell_type": "markdown",
   "id": "d7a765ff",
   "metadata": {},
   "source": [
    "#### 22 Write a Pandas program to get the day of month, day of year, week number and day of week from a given series of date strings"
   ]
  },
  {
   "cell_type": "code",
   "execution_count": 41,
   "id": "d04297cf",
   "metadata": {},
   "outputs": [
    {
     "name": "stdout",
     "output_type": "stream",
     "text": [
      "[1, 2, 7, 6, 12, 6]\n",
      "[1, 276, 66, 126, 103, 96]\n"
     ]
    }
   ],
   "source": [
    "### This module offers a generic date/time string parser which is able to parse most known \n",
    "### formats to represent a date and/or time.\n",
    "\n",
    "from dateutil.parser import parse\n",
    "\n",
    "time_series = pd.Series([\"1 Jan 2015\",\"10-02-2016\",\"20180307\",\"2014/05/06\",\"2016-04-12\",\"2019-04-06T11:20\"])\n",
    "time_series = time_series.map(lambda x : parse(x))\n",
    "print(time_series.dt.day.tolist())\n",
    "print(time_series.dt.dayofyear.tolist())"
   ]
  },
  {
   "cell_type": "code",
   "execution_count": null,
   "id": "46d407bc",
   "metadata": {},
   "outputs": [],
   "source": []
  },
  {
   "cell_type": "code",
   "execution_count": null,
   "id": "4ac633ca",
   "metadata": {},
   "outputs": [],
   "source": []
  },
  {
   "cell_type": "code",
   "execution_count": null,
   "id": "e1ba29f6",
   "metadata": {},
   "outputs": [],
   "source": []
  },
  {
   "cell_type": "code",
   "execution_count": null,
   "id": "6457a7ba",
   "metadata": {},
   "outputs": [],
   "source": []
  },
  {
   "cell_type": "code",
   "execution_count": null,
   "id": "aa50837b",
   "metadata": {},
   "outputs": [],
   "source": []
  },
  {
   "cell_type": "code",
   "execution_count": null,
   "id": "9d57b9ed",
   "metadata": {},
   "outputs": [],
   "source": []
  },
  {
   "cell_type": "code",
   "execution_count": null,
   "id": "127759de",
   "metadata": {},
   "outputs": [],
   "source": []
  },
  {
   "cell_type": "code",
   "execution_count": null,
   "id": "8e235da1",
   "metadata": {},
   "outputs": [],
   "source": []
  }
 ],
 "metadata": {
  "kernelspec": {
   "display_name": "Python 3 (ipykernel)",
   "language": "python",
   "name": "python3"
  },
  "language_info": {
   "codemirror_mode": {
    "name": "ipython",
    "version": 3
   },
   "file_extension": ".py",
   "mimetype": "text/x-python",
   "name": "python",
   "nbconvert_exporter": "python",
   "pygments_lexer": "ipython3",
   "version": "3.9.13"
  }
 },
 "nbformat": 4,
 "nbformat_minor": 5
}
