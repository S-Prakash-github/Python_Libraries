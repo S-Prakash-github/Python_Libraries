{
 "cells": [
  {
   "cell_type": "markdown",
   "id": "91b7048e-e010-4d33-bef0-ae2c2946770a",
   "metadata": {},
   "source": [
    "#### Topic\n",
    "- reindex\n",
    "- iterrows\n",
    "- iteritem\n",
    "- applymap\n",
    "- sort_values()\n",
    "- sort_index()\n",
    "- pd.set_option()\n",
    "- split()\n",
    "- statistical funtions both series and dataframe    cumsum(),mean(),max(),min(),corr(),std()....etc\n",
    "\n",
    "- rolling window\n",
    "- daterange()\n",
    "- to_datetime\n",
    "- handling time date               dt.day,dt.month,dt.year\n",
    "- Timedelta()\n",
    "- Categorical()\n",
    "- Vizualization , plot()"
   ]
  },
  {
   "cell_type": "code",
   "execution_count": null,
   "id": "6408257f-7285-4a84-9290-cf9e0b4723e8",
   "metadata": {},
   "outputs": [],
   "source": []
  },
  {
   "cell_type": "code",
   "execution_count": null,
   "id": "d7c91aad-a103-4999-8b90-f83edf8e19f2",
   "metadata": {},
   "outputs": [],
   "source": []
  },
  {
   "cell_type": "code",
   "execution_count": 1,
   "id": "85411157-963d-4028-96fa-cf2923321244",
   "metadata": {},
   "outputs": [],
   "source": [
    "import pandas as pd"
   ]
  },
  {
   "cell_type": "code",
   "execution_count": 2,
   "id": "7be2779f-a6e7-4497-a5f0-4baa57e0196c",
   "metadata": {},
   "outputs": [],
   "source": [
    "data = pd.DataFrame({'a' : [1,2,3,4],\n",
    "                    'b': [5,6,7,8],\n",
    "                    'c' : [\"Prakash\", \"Singh\" , \"Rathore\",\"Pratap\"]\n",
    "                    \n",
    "                    })"
   ]
  },
  {
   "cell_type": "code",
   "execution_count": 3,
   "id": "5903cf8a-63df-4462-97b2-07cf81a02962",
   "metadata": {},
   "outputs": [
    {
     "data": {
      "text/html": [
       "<div>\n",
       "<style scoped>\n",
       "    .dataframe tbody tr th:only-of-type {\n",
       "        vertical-align: middle;\n",
       "    }\n",
       "\n",
       "    .dataframe tbody tr th {\n",
       "        vertical-align: top;\n",
       "    }\n",
       "\n",
       "    .dataframe thead th {\n",
       "        text-align: right;\n",
       "    }\n",
       "</style>\n",
       "<table border=\"1\" class=\"dataframe\">\n",
       "  <thead>\n",
       "    <tr style=\"text-align: right;\">\n",
       "      <th></th>\n",
       "      <th>a</th>\n",
       "      <th>b</th>\n",
       "      <th>c</th>\n",
       "    </tr>\n",
       "  </thead>\n",
       "  <tbody>\n",
       "    <tr>\n",
       "      <th>0</th>\n",
       "      <td>1</td>\n",
       "      <td>5</td>\n",
       "      <td>Prakash</td>\n",
       "    </tr>\n",
       "    <tr>\n",
       "      <th>1</th>\n",
       "      <td>2</td>\n",
       "      <td>6</td>\n",
       "      <td>Singh</td>\n",
       "    </tr>\n",
       "    <tr>\n",
       "      <th>2</th>\n",
       "      <td>3</td>\n",
       "      <td>7</td>\n",
       "      <td>Rathore</td>\n",
       "    </tr>\n",
       "    <tr>\n",
       "      <th>3</th>\n",
       "      <td>4</td>\n",
       "      <td>8</td>\n",
       "      <td>Pratap</td>\n",
       "    </tr>\n",
       "  </tbody>\n",
       "</table>\n",
       "</div>"
      ],
      "text/plain": [
       "   a  b        c\n",
       "0  1  5  Prakash\n",
       "1  2  6    Singh\n",
       "2  3  7  Rathore\n",
       "3  4  8   Pratap"
      ]
     },
     "execution_count": 3,
     "metadata": {},
     "output_type": "execute_result"
    }
   ],
   "source": [
    "data"
   ]
  },
  {
   "cell_type": "code",
   "execution_count": 4,
   "id": "b346bf5a-4c36-482e-aef1-c74be17c1130",
   "metadata": {},
   "outputs": [],
   "source": [
    "#### set indexes"
   ]
  },
  {
   "cell_type": "code",
   "execution_count": 5,
   "id": "727e3682-0756-4c92-92a9-77a46b8204e5",
   "metadata": {},
   "outputs": [],
   "source": [
    "data.set_index('a' , inplace = True)"
   ]
  },
  {
   "cell_type": "code",
   "execution_count": 6,
   "id": "005bb802-678a-44d7-85bb-09f1796fe002",
   "metadata": {},
   "outputs": [
    {
     "data": {
      "text/html": [
       "<div>\n",
       "<style scoped>\n",
       "    .dataframe tbody tr th:only-of-type {\n",
       "        vertical-align: middle;\n",
       "    }\n",
       "\n",
       "    .dataframe tbody tr th {\n",
       "        vertical-align: top;\n",
       "    }\n",
       "\n",
       "    .dataframe thead th {\n",
       "        text-align: right;\n",
       "    }\n",
       "</style>\n",
       "<table border=\"1\" class=\"dataframe\">\n",
       "  <thead>\n",
       "    <tr style=\"text-align: right;\">\n",
       "      <th></th>\n",
       "      <th>b</th>\n",
       "      <th>c</th>\n",
       "    </tr>\n",
       "    <tr>\n",
       "      <th>a</th>\n",
       "      <th></th>\n",
       "      <th></th>\n",
       "    </tr>\n",
       "  </thead>\n",
       "  <tbody>\n",
       "    <tr>\n",
       "      <th>1</th>\n",
       "      <td>5</td>\n",
       "      <td>Prakash</td>\n",
       "    </tr>\n",
       "    <tr>\n",
       "      <th>2</th>\n",
       "      <td>6</td>\n",
       "      <td>Singh</td>\n",
       "    </tr>\n",
       "    <tr>\n",
       "      <th>3</th>\n",
       "      <td>7</td>\n",
       "      <td>Rathore</td>\n",
       "    </tr>\n",
       "    <tr>\n",
       "      <th>4</th>\n",
       "      <td>8</td>\n",
       "      <td>Pratap</td>\n",
       "    </tr>\n",
       "  </tbody>\n",
       "</table>\n",
       "</div>"
      ],
      "text/plain": [
       "   b        c\n",
       "a            \n",
       "1  5  Prakash\n",
       "2  6    Singh\n",
       "3  7  Rathore\n",
       "4  8   Pratap"
      ]
     },
     "execution_count": 6,
     "metadata": {},
     "output_type": "execute_result"
    }
   ],
   "source": [
    "data"
   ]
  },
  {
   "cell_type": "code",
   "execution_count": 7,
   "id": "ffa63c22-1c47-4015-b652-78f4ea2687c4",
   "metadata": {},
   "outputs": [],
   "source": [
    "## reset_indexes"
   ]
  },
  {
   "cell_type": "code",
   "execution_count": 8,
   "id": "38d65ed5-c27b-40ba-a061-12ec7c1d7d19",
   "metadata": {},
   "outputs": [],
   "source": [
    "data.reset_index(inplace = True)"
   ]
  },
  {
   "cell_type": "code",
   "execution_count": null,
   "id": "c5f38b1c-4dab-4b2b-9dc1-3ccadd1df80f",
   "metadata": {},
   "outputs": [],
   "source": []
  },
  {
   "cell_type": "code",
   "execution_count": 9,
   "id": "f7f97a59-0630-425e-b340-b89f7b036f8d",
   "metadata": {},
   "outputs": [],
   "source": [
    "\n",
    "df1 = pd.DataFrame({'a' : [1,2,3,4],\n",
    "                    'b': [5,6,7,8],\n",
    "                    'c' : [\"Prakash\", \"Singh\" , \"Rathore\",\"Pratap\"]},index= ['a','b','c','d'])"
   ]
  },
  {
   "cell_type": "code",
   "execution_count": 10,
   "id": "58ced8b2-9fc5-418c-95a6-2c7dd540d635",
   "metadata": {},
   "outputs": [
    {
     "data": {
      "text/html": [
       "<div>\n",
       "<style scoped>\n",
       "    .dataframe tbody tr th:only-of-type {\n",
       "        vertical-align: middle;\n",
       "    }\n",
       "\n",
       "    .dataframe tbody tr th {\n",
       "        vertical-align: top;\n",
       "    }\n",
       "\n",
       "    .dataframe thead th {\n",
       "        text-align: right;\n",
       "    }\n",
       "</style>\n",
       "<table border=\"1\" class=\"dataframe\">\n",
       "  <thead>\n",
       "    <tr style=\"text-align: right;\">\n",
       "      <th></th>\n",
       "      <th>a</th>\n",
       "      <th>b</th>\n",
       "      <th>c</th>\n",
       "      <th>d</th>\n",
       "    </tr>\n",
       "  </thead>\n",
       "  <tbody>\n",
       "    <tr>\n",
       "      <th>a</th>\n",
       "      <td>1</td>\n",
       "      <td>2</td>\n",
       "      <td>3</td>\n",
       "      <td>4</td>\n",
       "    </tr>\n",
       "    <tr>\n",
       "      <th>b</th>\n",
       "      <td>5</td>\n",
       "      <td>6</td>\n",
       "      <td>7</td>\n",
       "      <td>8</td>\n",
       "    </tr>\n",
       "    <tr>\n",
       "      <th>c</th>\n",
       "      <td>Prakash</td>\n",
       "      <td>Singh</td>\n",
       "      <td>Rathore</td>\n",
       "      <td>Pratap</td>\n",
       "    </tr>\n",
       "  </tbody>\n",
       "</table>\n",
       "</div>"
      ],
      "text/plain": [
       "         a      b        c       d\n",
       "a        1      2        3       4\n",
       "b        5      6        7       8\n",
       "c  Prakash  Singh  Rathore  Pratap"
      ]
     },
     "execution_count": 10,
     "metadata": {},
     "output_type": "execute_result"
    }
   ],
   "source": [
    "## transpose\n",
    "df1.T"
   ]
  },
  {
   "cell_type": "markdown",
   "id": "7dd5f271-75a4-4d67-b987-0d56205e090a",
   "metadata": {},
   "source": [
    "#### reindex()\n",
    "reindex does not add new indexes it just changes the sequence of the indexes"
   ]
  },
  {
   "cell_type": "code",
   "execution_count": 11,
   "id": "58d9cd45-78ce-4847-8051-10232b274717",
   "metadata": {},
   "outputs": [
    {
     "data": {
      "text/html": [
       "<div>\n",
       "<style scoped>\n",
       "    .dataframe tbody tr th:only-of-type {\n",
       "        vertical-align: middle;\n",
       "    }\n",
       "\n",
       "    .dataframe tbody tr th {\n",
       "        vertical-align: top;\n",
       "    }\n",
       "\n",
       "    .dataframe thead th {\n",
       "        text-align: right;\n",
       "    }\n",
       "</style>\n",
       "<table border=\"1\" class=\"dataframe\">\n",
       "  <thead>\n",
       "    <tr style=\"text-align: right;\">\n",
       "      <th></th>\n",
       "      <th>a</th>\n",
       "      <th>b</th>\n",
       "      <th>c</th>\n",
       "    </tr>\n",
       "  </thead>\n",
       "  <tbody>\n",
       "    <tr>\n",
       "      <th>b</th>\n",
       "      <td>2</td>\n",
       "      <td>6</td>\n",
       "      <td>Singh</td>\n",
       "    </tr>\n",
       "    <tr>\n",
       "      <th>c</th>\n",
       "      <td>3</td>\n",
       "      <td>7</td>\n",
       "      <td>Rathore</td>\n",
       "    </tr>\n",
       "    <tr>\n",
       "      <th>a</th>\n",
       "      <td>1</td>\n",
       "      <td>5</td>\n",
       "      <td>Prakash</td>\n",
       "    </tr>\n",
       "    <tr>\n",
       "      <th>d</th>\n",
       "      <td>4</td>\n",
       "      <td>8</td>\n",
       "      <td>Pratap</td>\n",
       "    </tr>\n",
       "  </tbody>\n",
       "</table>\n",
       "</div>"
      ],
      "text/plain": [
       "   a  b        c\n",
       "b  2  6    Singh\n",
       "c  3  7  Rathore\n",
       "a  1  5  Prakash\n",
       "d  4  8   Pratap"
      ]
     },
     "execution_count": 11,
     "metadata": {},
     "output_type": "execute_result"
    }
   ],
   "source": [
    "df1.reindex(['b','c','a','d'])"
   ]
  },
  {
   "cell_type": "code",
   "execution_count": null,
   "id": "5205be12-59d2-456f-84e4-2a159b573f73",
   "metadata": {},
   "outputs": [],
   "source": []
  },
  {
   "cell_type": "markdown",
   "id": "ac4089cc-6414-48bc-b554-ee0a0a83e370",
   "metadata": {},
   "source": [
    "#### iterrows\n",
    "generator function for datafrane\n",
    "It gives the row data as tuple"
   ]
  },
  {
   "cell_type": "code",
   "execution_count": 12,
   "id": "56429663-87cf-44e2-89b7-2cb510b4aee0",
   "metadata": {},
   "outputs": [
    {
     "data": {
      "text/plain": [
       "<generator object DataFrame.iterrows at 0x7fbc59718f20>"
      ]
     },
     "execution_count": 12,
     "metadata": {},
     "output_type": "execute_result"
    }
   ],
   "source": [
    "df1.iterrows()"
   ]
  },
  {
   "cell_type": "code",
   "execution_count": 13,
   "id": "d94ff8b4-2847-4b22-81c9-9040f9215dd5",
   "metadata": {},
   "outputs": [
    {
     "name": "stdout",
     "output_type": "stream",
     "text": [
      "('a', a          1\n",
      "b          5\n",
      "c    Prakash\n",
      "Name: a, dtype: object)\n",
      "('b', a        2\n",
      "b        6\n",
      "c    Singh\n",
      "Name: b, dtype: object)\n",
      "('c', a          3\n",
      "b          7\n",
      "c    Rathore\n",
      "Name: c, dtype: object)\n",
      "('d', a         4\n",
      "b         8\n",
      "c    Pratap\n",
      "Name: d, dtype: object)\n"
     ]
    }
   ],
   "source": [
    "## it is giving two values one for the index and one containing all the values in the row\n",
    "for i in df1.iterrows():\n",
    "    print( i)"
   ]
  },
  {
   "cell_type": "code",
   "execution_count": 14,
   "id": "f28df79e-6e4d-49b9-a4ee-1b3027dedec7",
   "metadata": {},
   "outputs": [
    {
     "name": "stdout",
     "output_type": "stream",
     "text": [
      "a a          1\n",
      "b          5\n",
      "c    Prakash\n",
      "Name: a, dtype: object\n",
      "b a        2\n",
      "b        6\n",
      "c    Singh\n",
      "Name: b, dtype: object\n",
      "c a          3\n",
      "b          7\n",
      "c    Rathore\n",
      "Name: c, dtype: object\n",
      "d a         4\n",
      "b         8\n",
      "c    Pratap\n",
      "Name: d, dtype: object\n"
     ]
    }
   ],
   "source": [
    "for i ,j in df1.iterrows():\n",
    "    print( i,j )"
   ]
  },
  {
   "cell_type": "markdown",
   "id": "c6827abb-5b6a-4692-96ea-254dbc42786c",
   "metadata": {},
   "source": [
    "#### iteritem\n",
    "it will show the data column wise"
   ]
  },
  {
   "cell_type": "code",
   "execution_count": 15,
   "id": "db9de788-0068-45d8-a154-749fca0c8f5a",
   "metadata": {},
   "outputs": [
    {
     "name": "stdout",
     "output_type": "stream",
     "text": [
      "('a', a    1\n",
      "b    2\n",
      "c    3\n",
      "d    4\n",
      "Name: a, dtype: int64)\n",
      "('b', a    5\n",
      "b    6\n",
      "c    7\n",
      "d    8\n",
      "Name: b, dtype: int64)\n",
      "('c', a    Prakash\n",
      "b      Singh\n",
      "c    Rathore\n",
      "d     Pratap\n",
      "Name: c, dtype: object)\n"
     ]
    },
    {
     "name": "stderr",
     "output_type": "stream",
     "text": [
      "/tmp/ipykernel_1729/549805685.py:1: FutureWarning: iteritems is deprecated and will be removed in a future version. Use .items instead.\n",
      "  for i in df1.iteritems():\n"
     ]
    }
   ],
   "source": [
    "for i in df1.iteritems():\n",
    "    print(i)"
   ]
  },
  {
   "cell_type": "code",
   "execution_count": 16,
   "id": "afd82350-1245-4730-a471-cd5c8794259f",
   "metadata": {},
   "outputs": [
    {
     "data": {
      "text/plain": [
       "[1, 2, 3, 4]"
      ]
     },
     "execution_count": 16,
     "metadata": {},
     "output_type": "execute_result"
    }
   ],
   "source": [
    "## iterating using for loop\n",
    "[i for i in df1['a']]"
   ]
  },
  {
   "cell_type": "code",
   "execution_count": 17,
   "id": "8d1be87f-a9d8-4fb5-81c7-ae4163d33455",
   "metadata": {},
   "outputs": [
    {
     "data": {
      "text/plain": [
       "[1, 2, 3, 4]"
      ]
     },
     "execution_count": 17,
     "metadata": {},
     "output_type": "execute_result"
    }
   ],
   "source": [
    "list(df1['a'])"
   ]
  },
  {
   "cell_type": "markdown",
   "id": "8617236c-50d9-4aa7-a6b3-9d5165102813",
   "metadata": {},
   "source": [
    "#### Print the sum of all the columns and concatinate the objects"
   ]
  },
  {
   "cell_type": "code",
   "execution_count": 18,
   "id": "8bee9062-3728-44ad-88fd-d5472c6ff43b",
   "metadata": {},
   "outputs": [
    {
     "data": {
      "text/plain": [
       "a                           10\n",
       "b                           26\n",
       "c    PrakashSinghRathorePratap\n",
       "dtype: object"
      ]
     },
     "execution_count": 18,
     "metadata": {},
     "output_type": "execute_result"
    }
   ],
   "source": [
    "def a (x):\n",
    "    return x.sum()\n",
    "\n",
    "\n",
    "### sum can perform concatination as well \n",
    "df1.apply(a)"
   ]
  },
  {
   "cell_type": "code",
   "execution_count": 19,
   "id": "04728cb0-6ab7-4f71-bc07-e89292c4d2d5",
   "metadata": {},
   "outputs": [],
   "source": [
    "## row wise concatinaiton is not possible\n",
    "## df1.apply(a,axis = 1)"
   ]
  },
  {
   "cell_type": "code",
   "execution_count": null,
   "id": "96194d57-880f-4021-a2f3-73478cf454d4",
   "metadata": {},
   "outputs": [],
   "source": []
  },
  {
   "cell_type": "code",
   "execution_count": 20,
   "id": "67bc2bd1-c1a9-4250-819d-94570242e80b",
   "metadata": {},
   "outputs": [
    {
     "data": {
      "text/html": [
       "<div>\n",
       "<style scoped>\n",
       "    .dataframe tbody tr th:only-of-type {\n",
       "        vertical-align: middle;\n",
       "    }\n",
       "\n",
       "    .dataframe tbody tr th {\n",
       "        vertical-align: top;\n",
       "    }\n",
       "\n",
       "    .dataframe thead th {\n",
       "        text-align: right;\n",
       "    }\n",
       "</style>\n",
       "<table border=\"1\" class=\"dataframe\">\n",
       "  <thead>\n",
       "    <tr style=\"text-align: right;\">\n",
       "      <th></th>\n",
       "      <th>a</th>\n",
       "      <th>b</th>\n",
       "      <th>c</th>\n",
       "    </tr>\n",
       "  </thead>\n",
       "  <tbody>\n",
       "    <tr>\n",
       "      <th>a</th>\n",
       "      <td>1</td>\n",
       "      <td>5</td>\n",
       "      <td>Prakash</td>\n",
       "    </tr>\n",
       "    <tr>\n",
       "      <th>b</th>\n",
       "      <td>2</td>\n",
       "      <td>6</td>\n",
       "      <td>Singh</td>\n",
       "    </tr>\n",
       "    <tr>\n",
       "      <th>c</th>\n",
       "      <td>3</td>\n",
       "      <td>7</td>\n",
       "      <td>Rathore</td>\n",
       "    </tr>\n",
       "    <tr>\n",
       "      <th>d</th>\n",
       "      <td>4</td>\n",
       "      <td>8</td>\n",
       "      <td>Pratap</td>\n",
       "    </tr>\n",
       "  </tbody>\n",
       "</table>\n",
       "</div>"
      ],
      "text/plain": [
       "   a  b        c\n",
       "a  1  5  Prakash\n",
       "b  2  6    Singh\n",
       "c  3  7  Rathore\n",
       "d  4  8   Pratap"
      ]
     },
     "execution_count": 20,
     "metadata": {},
     "output_type": "execute_result"
    }
   ],
   "source": [
    "df1"
   ]
  },
  {
   "cell_type": "code",
   "execution_count": 21,
   "id": "84605d1b-1fdc-4ea3-a3a8-5f8d06bf8c71",
   "metadata": {},
   "outputs": [],
   "source": [
    "df2 = df1[['a','b']]"
   ]
  },
  {
   "cell_type": "markdown",
   "id": "527301ef-7f09-4fcc-8131-64fed6ff1b56",
   "metadata": {},
   "source": [
    "#### applymap()"
   ]
  },
  {
   "cell_type": "code",
   "execution_count": 22,
   "id": "a676caa7-c0cc-4b3c-8ba1-a508b79cd40c",
   "metadata": {},
   "outputs": [
    {
     "data": {
      "text/html": [
       "<div>\n",
       "<style scoped>\n",
       "    .dataframe tbody tr th:only-of-type {\n",
       "        vertical-align: middle;\n",
       "    }\n",
       "\n",
       "    .dataframe tbody tr th {\n",
       "        vertical-align: top;\n",
       "    }\n",
       "\n",
       "    .dataframe thead th {\n",
       "        text-align: right;\n",
       "    }\n",
       "</style>\n",
       "<table border=\"1\" class=\"dataframe\">\n",
       "  <thead>\n",
       "    <tr style=\"text-align: right;\">\n",
       "      <th></th>\n",
       "      <th>a</th>\n",
       "      <th>b</th>\n",
       "    </tr>\n",
       "  </thead>\n",
       "  <tbody>\n",
       "    <tr>\n",
       "      <th>a</th>\n",
       "      <td>1</td>\n",
       "      <td>25</td>\n",
       "    </tr>\n",
       "    <tr>\n",
       "      <th>b</th>\n",
       "      <td>4</td>\n",
       "      <td>36</td>\n",
       "    </tr>\n",
       "    <tr>\n",
       "      <th>c</th>\n",
       "      <td>9</td>\n",
       "      <td>49</td>\n",
       "    </tr>\n",
       "    <tr>\n",
       "      <th>d</th>\n",
       "      <td>16</td>\n",
       "      <td>64</td>\n",
       "    </tr>\n",
       "  </tbody>\n",
       "</table>\n",
       "</div>"
      ],
      "text/plain": [
       "    a   b\n",
       "a   1  25\n",
       "b   4  36\n",
       "c   9  49\n",
       "d  16  64"
      ]
     },
     "execution_count": 22,
     "metadata": {},
     "output_type": "execute_result"
    }
   ],
   "source": [
    "## apply is done on cloumn or row\n",
    "## apply,ap opreates in whole database\n",
    "df2.applymap(lambda x : x**2)"
   ]
  },
  {
   "cell_type": "markdown",
   "id": "53bfa708-5ad9-436c-a426-22af8bb9485b",
   "metadata": {},
   "source": [
    "### sort_values()"
   ]
  },
  {
   "cell_type": "code",
   "execution_count": 23,
   "id": "4e820698-42ee-4d80-a69e-836f2f0e683e",
   "metadata": {},
   "outputs": [
    {
     "data": {
      "text/html": [
       "<div>\n",
       "<style scoped>\n",
       "    .dataframe tbody tr th:only-of-type {\n",
       "        vertical-align: middle;\n",
       "    }\n",
       "\n",
       "    .dataframe tbody tr th {\n",
       "        vertical-align: top;\n",
       "    }\n",
       "\n",
       "    .dataframe thead th {\n",
       "        text-align: right;\n",
       "    }\n",
       "</style>\n",
       "<table border=\"1\" class=\"dataframe\">\n",
       "  <thead>\n",
       "    <tr style=\"text-align: right;\">\n",
       "      <th></th>\n",
       "      <th>a</th>\n",
       "      <th>b</th>\n",
       "      <th>c</th>\n",
       "    </tr>\n",
       "  </thead>\n",
       "  <tbody>\n",
       "    <tr>\n",
       "      <th>a</th>\n",
       "      <td>1</td>\n",
       "      <td>5</td>\n",
       "      <td>Prakash</td>\n",
       "    </tr>\n",
       "    <tr>\n",
       "      <th>b</th>\n",
       "      <td>2</td>\n",
       "      <td>6</td>\n",
       "      <td>Singh</td>\n",
       "    </tr>\n",
       "    <tr>\n",
       "      <th>c</th>\n",
       "      <td>3</td>\n",
       "      <td>7</td>\n",
       "      <td>Rathore</td>\n",
       "    </tr>\n",
       "    <tr>\n",
       "      <th>d</th>\n",
       "      <td>4</td>\n",
       "      <td>8</td>\n",
       "      <td>Pratap</td>\n",
       "    </tr>\n",
       "  </tbody>\n",
       "</table>\n",
       "</div>"
      ],
      "text/plain": [
       "   a  b        c\n",
       "a  1  5  Prakash\n",
       "b  2  6    Singh\n",
       "c  3  7  Rathore\n",
       "d  4  8   Pratap"
      ]
     },
     "execution_count": 23,
     "metadata": {},
     "output_type": "execute_result"
    }
   ],
   "source": [
    "df1"
   ]
  },
  {
   "cell_type": "code",
   "execution_count": 24,
   "id": "647197a0-3af2-43d4-b194-9767079f40f1",
   "metadata": {},
   "outputs": [
    {
     "data": {
      "text/html": [
       "<div>\n",
       "<style scoped>\n",
       "    .dataframe tbody tr th:only-of-type {\n",
       "        vertical-align: middle;\n",
       "    }\n",
       "\n",
       "    .dataframe tbody tr th {\n",
       "        vertical-align: top;\n",
       "    }\n",
       "\n",
       "    .dataframe thead th {\n",
       "        text-align: right;\n",
       "    }\n",
       "</style>\n",
       "<table border=\"1\" class=\"dataframe\">\n",
       "  <thead>\n",
       "    <tr style=\"text-align: right;\">\n",
       "      <th></th>\n",
       "      <th>a</th>\n",
       "      <th>b</th>\n",
       "      <th>c</th>\n",
       "    </tr>\n",
       "  </thead>\n",
       "  <tbody>\n",
       "    <tr>\n",
       "      <th>a</th>\n",
       "      <td>1</td>\n",
       "      <td>5</td>\n",
       "      <td>Prakash</td>\n",
       "    </tr>\n",
       "    <tr>\n",
       "      <th>d</th>\n",
       "      <td>4</td>\n",
       "      <td>8</td>\n",
       "      <td>Pratap</td>\n",
       "    </tr>\n",
       "    <tr>\n",
       "      <th>c</th>\n",
       "      <td>3</td>\n",
       "      <td>7</td>\n",
       "      <td>Rathore</td>\n",
       "    </tr>\n",
       "    <tr>\n",
       "      <th>b</th>\n",
       "      <td>2</td>\n",
       "      <td>6</td>\n",
       "      <td>Singh</td>\n",
       "    </tr>\n",
       "  </tbody>\n",
       "</table>\n",
       "</div>"
      ],
      "text/plain": [
       "   a  b        c\n",
       "a  1  5  Prakash\n",
       "d  4  8   Pratap\n",
       "c  3  7  Rathore\n",
       "b  2  6    Singh"
      ]
     },
     "execution_count": 24,
     "metadata": {},
     "output_type": "execute_result"
    }
   ],
   "source": [
    "df1.sort_values('c')"
   ]
  },
  {
   "cell_type": "code",
   "execution_count": 25,
   "id": "72631f06-c5dd-4c4d-ba5d-aeea2e60ad39",
   "metadata": {},
   "outputs": [
    {
     "data": {
      "text/html": [
       "<div>\n",
       "<style scoped>\n",
       "    .dataframe tbody tr th:only-of-type {\n",
       "        vertical-align: middle;\n",
       "    }\n",
       "\n",
       "    .dataframe tbody tr th {\n",
       "        vertical-align: top;\n",
       "    }\n",
       "\n",
       "    .dataframe thead th {\n",
       "        text-align: right;\n",
       "    }\n",
       "</style>\n",
       "<table border=\"1\" class=\"dataframe\">\n",
       "  <thead>\n",
       "    <tr style=\"text-align: right;\">\n",
       "      <th></th>\n",
       "      <th>a</th>\n",
       "      <th>b</th>\n",
       "      <th>c</th>\n",
       "    </tr>\n",
       "  </thead>\n",
       "  <tbody>\n",
       "    <tr>\n",
       "      <th>a</th>\n",
       "      <td>1</td>\n",
       "      <td>5</td>\n",
       "      <td>Prakash</td>\n",
       "    </tr>\n",
       "    <tr>\n",
       "      <th>d</th>\n",
       "      <td>4</td>\n",
       "      <td>8</td>\n",
       "      <td>Pratap</td>\n",
       "    </tr>\n",
       "    <tr>\n",
       "      <th>c</th>\n",
       "      <td>3</td>\n",
       "      <td>7</td>\n",
       "      <td>Rathore</td>\n",
       "    </tr>\n",
       "    <tr>\n",
       "      <th>b</th>\n",
       "      <td>2</td>\n",
       "      <td>6</td>\n",
       "      <td>Singh</td>\n",
       "    </tr>\n",
       "  </tbody>\n",
       "</table>\n",
       "</div>"
      ],
      "text/plain": [
       "   a  b        c\n",
       "a  1  5  Prakash\n",
       "d  4  8   Pratap\n",
       "c  3  7  Rathore\n",
       "b  2  6    Singh"
      ]
     },
     "execution_count": 25,
     "metadata": {},
     "output_type": "execute_result"
    }
   ],
   "source": [
    "df1.sort_values('c')"
   ]
  },
  {
   "cell_type": "markdown",
   "id": "2ed3839e-2147-46e9-98c7-c8c0ce47003e",
   "metadata": {},
   "source": [
    "##### sort_index()"
   ]
  },
  {
   "cell_type": "code",
   "execution_count": 26,
   "id": "b3989c02-2186-49ed-87a3-b9da209f13d8",
   "metadata": {},
   "outputs": [
    {
     "data": {
      "text/html": [
       "<div>\n",
       "<style scoped>\n",
       "    .dataframe tbody tr th:only-of-type {\n",
       "        vertical-align: middle;\n",
       "    }\n",
       "\n",
       "    .dataframe tbody tr th {\n",
       "        vertical-align: top;\n",
       "    }\n",
       "\n",
       "    .dataframe thead th {\n",
       "        text-align: right;\n",
       "    }\n",
       "</style>\n",
       "<table border=\"1\" class=\"dataframe\">\n",
       "  <thead>\n",
       "    <tr style=\"text-align: right;\">\n",
       "      <th></th>\n",
       "      <th>a</th>\n",
       "      <th>b</th>\n",
       "      <th>c</th>\n",
       "    </tr>\n",
       "  </thead>\n",
       "  <tbody>\n",
       "    <tr>\n",
       "      <th>d</th>\n",
       "      <td>4</td>\n",
       "      <td>8</td>\n",
       "      <td>Pratap</td>\n",
       "    </tr>\n",
       "    <tr>\n",
       "      <th>c</th>\n",
       "      <td>3</td>\n",
       "      <td>7</td>\n",
       "      <td>Rathore</td>\n",
       "    </tr>\n",
       "    <tr>\n",
       "      <th>b</th>\n",
       "      <td>2</td>\n",
       "      <td>6</td>\n",
       "      <td>Singh</td>\n",
       "    </tr>\n",
       "    <tr>\n",
       "      <th>a</th>\n",
       "      <td>1</td>\n",
       "      <td>5</td>\n",
       "      <td>Prakash</td>\n",
       "    </tr>\n",
       "  </tbody>\n",
       "</table>\n",
       "</div>"
      ],
      "text/plain": [
       "   a  b        c\n",
       "d  4  8   Pratap\n",
       "c  3  7  Rathore\n",
       "b  2  6    Singh\n",
       "a  1  5  Prakash"
      ]
     },
     "execution_count": 26,
     "metadata": {},
     "output_type": "execute_result"
    }
   ],
   "source": [
    "df1.sort_index(ascending = False)"
   ]
  },
  {
   "cell_type": "markdown",
   "id": "0d164141-3096-4ab0-b829-d3a0f59f38a0",
   "metadata": {},
   "source": [
    "### handling data"
   ]
  },
  {
   "cell_type": "code",
   "execution_count": 27,
   "id": "af5e5ab3-54bf-4051-9950-971af462e527",
   "metadata": {},
   "outputs": [],
   "source": [
    "df3 = pd.DataFrame({\"data\" :[ \"Description is the pattern of narrative development that aims to make vivid a place, object, character, or group. Description is one of four rhetorical modes, along with exposition, argumentation, and narration. In practice it would be difficult to write literature that drew on just one of the four basic modes.\"]})"
   ]
  },
  {
   "cell_type": "code",
   "execution_count": 28,
   "id": "771ccf9c-3090-412b-a186-f1da5f223fcc",
   "metadata": {},
   "outputs": [
    {
     "data": {
      "text/html": [
       "<div>\n",
       "<style scoped>\n",
       "    .dataframe tbody tr th:only-of-type {\n",
       "        vertical-align: middle;\n",
       "    }\n",
       "\n",
       "    .dataframe tbody tr th {\n",
       "        vertical-align: top;\n",
       "    }\n",
       "\n",
       "    .dataframe thead th {\n",
       "        text-align: right;\n",
       "    }\n",
       "</style>\n",
       "<table border=\"1\" class=\"dataframe\">\n",
       "  <thead>\n",
       "    <tr style=\"text-align: right;\">\n",
       "      <th></th>\n",
       "      <th>data</th>\n",
       "    </tr>\n",
       "  </thead>\n",
       "  <tbody>\n",
       "    <tr>\n",
       "      <th>0</th>\n",
       "      <td>Description is the pattern of narrative development that aims to make vivid a place, object, character, or group. Description is one of four rhetorical modes, along with exposition, argumentation, and narration. In practice it would be difficult to write literature that drew on just one of the four basic modes.</td>\n",
       "    </tr>\n",
       "  </tbody>\n",
       "</table>\n",
       "</div>"
      ],
      "text/plain": [
       "                                                                                                                                                                                                                                                                                                                       data\n",
       "0  Description is the pattern of narrative development that aims to make vivid a place, object, character, or group. Description is one of four rhetorical modes, along with exposition, argumentation, and narration. In practice it would be difficult to write literature that drew on just one of the four basic modes."
      ]
     },
     "execution_count": 28,
     "metadata": {},
     "output_type": "execute_result"
    }
   ],
   "source": [
    "### controls the maximum column width to see the whole data inside \n",
    "pd.set_option(\"display.max_colwidth\",1000)\n",
    "df3"
   ]
  },
  {
   "cell_type": "code",
   "execution_count": null,
   "id": "d77f81b2-060f-4079-abf0-9396366c4d49",
   "metadata": {},
   "outputs": [],
   "source": []
  },
  {
   "cell_type": "code",
   "execution_count": 29,
   "id": "04d5ed3d-4a5c-4702-ad4d-3a6acbcf04d0",
   "metadata": {},
   "outputs": [],
   "source": [
    "df3 = pd.DataFrame({\"data\" :[ \"My name is Prakash Description is the pattern of narrative development I want to become Data Scientist that aims to make vivid a place, object, character, or group. Description is one of four rhetorical modes, along with exposition, argumentation, and narration. In practice it would be difficult to write literature that drew on just one of the four basic modes.\"]})"
   ]
  },
  {
   "cell_type": "code",
   "execution_count": 30,
   "id": "920f84fd-18d7-4115-a2dd-faab36eb96be",
   "metadata": {},
   "outputs": [
    {
     "data": {
      "text/html": [
       "<div>\n",
       "<style scoped>\n",
       "    .dataframe tbody tr th:only-of-type {\n",
       "        vertical-align: middle;\n",
       "    }\n",
       "\n",
       "    .dataframe tbody tr th {\n",
       "        vertical-align: top;\n",
       "    }\n",
       "\n",
       "    .dataframe thead th {\n",
       "        text-align: right;\n",
       "    }\n",
       "</style>\n",
       "<table border=\"1\" class=\"dataframe\">\n",
       "  <thead>\n",
       "    <tr style=\"text-align: right;\">\n",
       "      <th></th>\n",
       "      <th>data</th>\n",
       "    </tr>\n",
       "  </thead>\n",
       "  <tbody>\n",
       "    <tr>\n",
       "      <th>0</th>\n",
       "      <td>My name is Prakash Description is the pattern of narrative development I want to become Data Scientist that aims to make vivid a place, object, character, or group. Description is one of four rhetorical modes, along with exposition, argumentation, and narration. In practice it would be difficult to write literature that drew on just one of the four basic modes.</td>\n",
       "    </tr>\n",
       "  </tbody>\n",
       "</table>\n",
       "</div>"
      ],
      "text/plain": [
       "                                                                                                                                                                                                                                                                                                                                                                          data\n",
       "0  My name is Prakash Description is the pattern of narrative development I want to become Data Scientist that aims to make vivid a place, object, character, or group. Description is one of four rhetorical modes, along with exposition, argumentation, and narration. In practice it would be difficult to write literature that drew on just one of the four basic modes."
      ]
     },
     "execution_count": 30,
     "metadata": {},
     "output_type": "execute_result"
    }
   ],
   "source": [
    "df3"
   ]
  },
  {
   "cell_type": "code",
   "execution_count": 31,
   "id": "02f8c4cf-115e-47c8-834a-18e132c97ebb",
   "metadata": {},
   "outputs": [],
   "source": [
    "## length of the characters\n",
    "\n",
    "df3['length'] =  df3['data'].apply(lambda x : len(x))"
   ]
  },
  {
   "cell_type": "code",
   "execution_count": 32,
   "id": "5bcde45a-070a-4512-9c95-a5e6d34a7e6b",
   "metadata": {},
   "outputs": [
    {
     "data": {
      "text/html": [
       "<div>\n",
       "<style scoped>\n",
       "    .dataframe tbody tr th:only-of-type {\n",
       "        vertical-align: middle;\n",
       "    }\n",
       "\n",
       "    .dataframe tbody tr th {\n",
       "        vertical-align: top;\n",
       "    }\n",
       "\n",
       "    .dataframe thead th {\n",
       "        text-align: right;\n",
       "    }\n",
       "</style>\n",
       "<table border=\"1\" class=\"dataframe\">\n",
       "  <thead>\n",
       "    <tr style=\"text-align: right;\">\n",
       "      <th></th>\n",
       "      <th>data</th>\n",
       "      <th>length</th>\n",
       "    </tr>\n",
       "  </thead>\n",
       "  <tbody>\n",
       "    <tr>\n",
       "      <th>0</th>\n",
       "      <td>My name is Prakash Description is the pattern of narrative development I want to become Data Scientist that aims to make vivid a place, object, character, or group. Description is one of four rhetorical modes, along with exposition, argumentation, and narration. In practice it would be difficult to write literature that drew on just one of the four basic modes.</td>\n",
       "      <td>363</td>\n",
       "    </tr>\n",
       "  </tbody>\n",
       "</table>\n",
       "</div>"
      ],
      "text/plain": [
       "                                                                                                                                                                                                                                                                                                                                                                          data  \\\n",
       "0  My name is Prakash Description is the pattern of narrative development I want to become Data Scientist that aims to make vivid a place, object, character, or group. Description is one of four rhetorical modes, along with exposition, argumentation, and narration. In practice it would be difficult to write literature that drew on just one of the four basic modes.   \n",
       "\n",
       "   length  \n",
       "0     363  "
      ]
     },
     "execution_count": 32,
     "metadata": {},
     "output_type": "execute_result"
    }
   ],
   "source": [
    "df3"
   ]
  },
  {
   "cell_type": "code",
   "execution_count": null,
   "id": "7ea65b6e-4117-4ac8-95cc-41892b9738ed",
   "metadata": {},
   "outputs": [],
   "source": []
  },
  {
   "cell_type": "markdown",
   "id": "0314ee6b-1678-4718-b6d6-a0a19e0f171a",
   "metadata": {},
   "source": [
    "### print the number of words  split()\n",
    "split() splits the data differentiated by a separator (by default the separator is space)"
   ]
  },
  {
   "cell_type": "code",
   "execution_count": null,
   "id": "910d9059-d966-4626-b711-56d854474e11",
   "metadata": {},
   "outputs": [],
   "source": []
  },
  {
   "cell_type": "code",
   "execution_count": 33,
   "id": "fe20c410-dd29-4260-b7c6-678c1509ffe9",
   "metadata": {},
   "outputs": [
    {
     "data": {
      "text/plain": [
       "['i', 'want', 'to', 'become', 'data', 'scientist']"
      ]
     },
     "execution_count": 33,
     "metadata": {},
     "output_type": "execute_result"
    }
   ],
   "source": [
    "t = \"i want to become data scientist\"\n",
    "t.split()"
   ]
  },
  {
   "cell_type": "code",
   "execution_count": 34,
   "id": "3ce47d63-5df2-4a5e-8231-d11afcb50ff3",
   "metadata": {},
   "outputs": [
    {
     "data": {
      "text/plain": [
       "6"
      ]
     },
     "execution_count": 34,
     "metadata": {},
     "output_type": "execute_result"
    }
   ],
   "source": [
    "## to find the number of words\n",
    "len(t.split())"
   ]
  },
  {
   "cell_type": "code",
   "execution_count": 35,
   "id": "6913545e-ae50-4bc8-93ad-3bc6bcebb49b",
   "metadata": {},
   "outputs": [],
   "source": [
    "df3[\"word_count\"] = df3[\"data\"].apply(lambda x : len(x.split()))"
   ]
  },
  {
   "cell_type": "code",
   "execution_count": 36,
   "id": "0137110c-ef4a-4aef-8cbb-b653a727f555",
   "metadata": {},
   "outputs": [
    {
     "data": {
      "text/html": [
       "<div>\n",
       "<style scoped>\n",
       "    .dataframe tbody tr th:only-of-type {\n",
       "        vertical-align: middle;\n",
       "    }\n",
       "\n",
       "    .dataframe tbody tr th {\n",
       "        vertical-align: top;\n",
       "    }\n",
       "\n",
       "    .dataframe thead th {\n",
       "        text-align: right;\n",
       "    }\n",
       "</style>\n",
       "<table border=\"1\" class=\"dataframe\">\n",
       "  <thead>\n",
       "    <tr style=\"text-align: right;\">\n",
       "      <th></th>\n",
       "      <th>data</th>\n",
       "      <th>length</th>\n",
       "      <th>word_count</th>\n",
       "    </tr>\n",
       "  </thead>\n",
       "  <tbody>\n",
       "    <tr>\n",
       "      <th>0</th>\n",
       "      <td>My name is Prakash Description is the pattern of narrative development I want to become Data Scientist that aims to make vivid a place, object, character, or group. Description is one of four rhetorical modes, along with exposition, argumentation, and narration. In practice it would be difficult to write literature that drew on just one of the four basic modes.</td>\n",
       "      <td>363</td>\n",
       "      <td>60</td>\n",
       "    </tr>\n",
       "  </tbody>\n",
       "</table>\n",
       "</div>"
      ],
      "text/plain": [
       "                                                                                                                                                                                                                                                                                                                                                                          data  \\\n",
       "0  My name is Prakash Description is the pattern of narrative development I want to become Data Scientist that aims to make vivid a place, object, character, or group. Description is one of four rhetorical modes, along with exposition, argumentation, and narration. In practice it would be difficult to write literature that drew on just one of the four basic modes.   \n",
       "\n",
       "   length  word_count  \n",
       "0     363          60  "
      ]
     },
     "execution_count": 36,
     "metadata": {},
     "output_type": "execute_result"
    }
   ],
   "source": [
    "df3"
   ]
  },
  {
   "cell_type": "code",
   "execution_count": null,
   "id": "29e1ff26-02fa-4b22-a070-aea1ccb55e12",
   "metadata": {},
   "outputs": [],
   "source": []
  },
  {
   "cell_type": "markdown",
   "id": "67fb35c3-57bd-43af-974c-d305d3f4a714",
   "metadata": {},
   "source": [
    "#### Statistical Functions"
   ]
  },
  {
   "cell_type": "code",
   "execution_count": 37,
   "id": "aba73467-3d3c-4c28-b166-70a46f139084",
   "metadata": {},
   "outputs": [
    {
     "data": {
      "text/html": [
       "<div>\n",
       "<style scoped>\n",
       "    .dataframe tbody tr th:only-of-type {\n",
       "        vertical-align: middle;\n",
       "    }\n",
       "\n",
       "    .dataframe tbody tr th {\n",
       "        vertical-align: top;\n",
       "    }\n",
       "\n",
       "    .dataframe thead th {\n",
       "        text-align: right;\n",
       "    }\n",
       "</style>\n",
       "<table border=\"1\" class=\"dataframe\">\n",
       "  <thead>\n",
       "    <tr style=\"text-align: right;\">\n",
       "      <th></th>\n",
       "      <th>a</th>\n",
       "      <th>b</th>\n",
       "      <th>c</th>\n",
       "    </tr>\n",
       "  </thead>\n",
       "  <tbody>\n",
       "    <tr>\n",
       "      <th>a</th>\n",
       "      <td>1</td>\n",
       "      <td>5</td>\n",
       "      <td>Prakash</td>\n",
       "    </tr>\n",
       "    <tr>\n",
       "      <th>b</th>\n",
       "      <td>2</td>\n",
       "      <td>6</td>\n",
       "      <td>Singh</td>\n",
       "    </tr>\n",
       "    <tr>\n",
       "      <th>c</th>\n",
       "      <td>3</td>\n",
       "      <td>7</td>\n",
       "      <td>Rathore</td>\n",
       "    </tr>\n",
       "    <tr>\n",
       "      <th>d</th>\n",
       "      <td>4</td>\n",
       "      <td>8</td>\n",
       "      <td>Pratap</td>\n",
       "    </tr>\n",
       "  </tbody>\n",
       "</table>\n",
       "</div>"
      ],
      "text/plain": [
       "   a  b        c\n",
       "a  1  5  Prakash\n",
       "b  2  6    Singh\n",
       "c  3  7  Rathore\n",
       "d  4  8   Pratap"
      ]
     },
     "execution_count": 37,
     "metadata": {},
     "output_type": "execute_result"
    }
   ],
   "source": [
    "df1"
   ]
  },
  {
   "cell_type": "code",
   "execution_count": 38,
   "id": "8964cd0e-d642-4725-9f8a-f1b00d1ea603",
   "metadata": {},
   "outputs": [
    {
     "data": {
      "text/plain": [
       "0    1\n",
       "1    2\n",
       "2    3\n",
       "3    4\n",
       "Name: a, dtype: int64"
      ]
     },
     "execution_count": 38,
     "metadata": {},
     "output_type": "execute_result"
    }
   ],
   "source": [
    "df1['a'].mode()"
   ]
  },
  {
   "cell_type": "code",
   "execution_count": 39,
   "id": "cf1fcd72-512e-49e2-9e57-369b671a88ca",
   "metadata": {},
   "outputs": [
    {
     "data": {
      "text/plain": [
       "1.2909944487358056"
      ]
     },
     "execution_count": 39,
     "metadata": {},
     "output_type": "execute_result"
    }
   ],
   "source": [
    "df1['a'].std()"
   ]
  },
  {
   "cell_type": "code",
   "execution_count": 40,
   "id": "bd80b782-bb4b-4d0b-986a-0a532e71c433",
   "metadata": {},
   "outputs": [
    {
     "data": {
      "text/plain": [
       "10"
      ]
     },
     "execution_count": 40,
     "metadata": {},
     "output_type": "execute_result"
    }
   ],
   "source": [
    "df1['a'].sum()"
   ]
  },
  {
   "cell_type": "code",
   "execution_count": 41,
   "id": "43c0c9e2-7c2e-42bf-89c7-1aa10c98f2d1",
   "metadata": {},
   "outputs": [
    {
     "data": {
      "text/plain": [
       "1"
      ]
     },
     "execution_count": 41,
     "metadata": {},
     "output_type": "execute_result"
    }
   ],
   "source": [
    "df1['a'].min()"
   ]
  },
  {
   "cell_type": "code",
   "execution_count": 42,
   "id": "1dd94002-159c-4752-9b61-77865b64c169",
   "metadata": {},
   "outputs": [
    {
     "data": {
      "text/plain": [
       "4"
      ]
     },
     "execution_count": 42,
     "metadata": {},
     "output_type": "execute_result"
    }
   ],
   "source": [
    "df1['a'].max()"
   ]
  },
  {
   "cell_type": "code",
   "execution_count": 43,
   "id": "7c4e9dd9-cec4-4350-9661-37f4d8bd41ef",
   "metadata": {},
   "outputs": [
    {
     "data": {
      "text/plain": [
       "a        4\n",
       "b        8\n",
       "c    Singh\n",
       "dtype: object"
      ]
     },
     "execution_count": 43,
     "metadata": {},
     "output_type": "execute_result"
    }
   ],
   "source": [
    "df1.max()"
   ]
  },
  {
   "cell_type": "code",
   "execution_count": null,
   "id": "843d5b51-77ed-41a8-9485-38eb731ddca2",
   "metadata": {},
   "outputs": [],
   "source": []
  },
  {
   "cell_type": "markdown",
   "id": "4f5c2b07-723a-4992-aa20-d3ce0d9f9e19",
   "metadata": {},
   "source": [
    "##### Window function"
   ]
  },
  {
   "cell_type": "code",
   "execution_count": 44,
   "id": "486d2838-76f5-4ed5-a34e-055c7dffd75f",
   "metadata": {},
   "outputs": [],
   "source": [
    "## the window function defines the number of data it will take to perform an operation\n",
    "df4 = pd.DataFrame({'a' : [1,2,3,4,5,5,4,6]})              "
   ]
  },
  {
   "cell_type": "code",
   "execution_count": 45,
   "id": "5b45f624-21d6-4f60-b9fd-6a3df23a646b",
   "metadata": {},
   "outputs": [
    {
     "data": {
      "text/plain": [
       "0    1.0\n",
       "1    2.0\n",
       "2    3.0\n",
       "3    4.0\n",
       "4    5.0\n",
       "5    5.0\n",
       "6    4.0\n",
       "7    6.0\n",
       "Name: a, dtype: float64"
      ]
     },
     "execution_count": 45,
     "metadata": {},
     "output_type": "execute_result"
    }
   ],
   "source": [
    "df4['a'].rolling(window = 1 ).mean()"
   ]
  },
  {
   "cell_type": "code",
   "execution_count": 46,
   "id": "e8430ff5-78c4-4570-8967-467e8dbf49db",
   "metadata": {},
   "outputs": [
    {
     "data": {
      "text/plain": [
       "0    NaN\n",
       "1    1.5\n",
       "2    2.5\n",
       "3    3.5\n",
       "4    4.5\n",
       "5    5.0\n",
       "6    4.5\n",
       "7    5.0\n",
       "Name: a, dtype: float64"
      ]
     },
     "execution_count": 46,
     "metadata": {},
     "output_type": "execute_result"
    }
   ],
   "source": [
    "\n",
    "df4['a'].rolling(window = 2 ).mean()"
   ]
  },
  {
   "cell_type": "code",
   "execution_count": 47,
   "id": "1d285a0b-6945-4cb8-87db-60b955571053",
   "metadata": {},
   "outputs": [
    {
     "data": {
      "text/plain": [
       "0         NaN\n",
       "1         NaN\n",
       "2    2.000000\n",
       "3    3.000000\n",
       "4    4.000000\n",
       "5    4.666667\n",
       "6    4.666667\n",
       "7    5.000000\n",
       "Name: a, dtype: float64"
      ]
     },
     "execution_count": 47,
     "metadata": {},
     "output_type": "execute_result"
    }
   ],
   "source": [
    "df4['a'].rolling(window = 3 ).mean()"
   ]
  },
  {
   "cell_type": "code",
   "execution_count": 48,
   "id": "60cf56b0-29ee-485c-8be0-5d89010ce480",
   "metadata": {},
   "outputs": [
    {
     "data": {
      "text/plain": [
       "0    NaN\n",
       "1    NaN\n",
       "2    3.0\n",
       "3    4.0\n",
       "4    5.0\n",
       "5    5.0\n",
       "6    5.0\n",
       "7    6.0\n",
       "Name: a, dtype: float64"
      ]
     },
     "execution_count": 48,
     "metadata": {},
     "output_type": "execute_result"
    }
   ],
   "source": [
    "df4['a'].rolling(window = 3 ).max()"
   ]
  },
  {
   "cell_type": "code",
   "execution_count": 49,
   "id": "cc0a68d1-e1fb-41b2-8805-b8345e7a4079",
   "metadata": {},
   "outputs": [
    {
     "data": {
      "text/plain": [
       "0    NaN\n",
       "1    1.0\n",
       "2    2.0\n",
       "3    3.0\n",
       "4    4.0\n",
       "5    5.0\n",
       "6    4.0\n",
       "7    4.0\n",
       "Name: a, dtype: float64"
      ]
     },
     "execution_count": 49,
     "metadata": {},
     "output_type": "execute_result"
    }
   ],
   "source": [
    "df4['a'].rolling(window = 2 ).min()"
   ]
  },
  {
   "cell_type": "code",
   "execution_count": 50,
   "id": "64893fec-29f1-43f5-b2db-4983754fb8d9",
   "metadata": {},
   "outputs": [
    {
     "data": {
      "text/plain": [
       "0     1\n",
       "1     3\n",
       "2     6\n",
       "3    10\n",
       "4    15\n",
       "5    20\n",
       "6    24\n",
       "7    30\n",
       "Name: a, dtype: int64"
      ]
     },
     "execution_count": 50,
     "metadata": {},
     "output_type": "execute_result"
    }
   ],
   "source": [
    "df4['a'].cumsum()"
   ]
  },
  {
   "cell_type": "code",
   "execution_count": null,
   "id": "9d67b8f7-59ec-4e9a-8ce3-4667460b7cf4",
   "metadata": {},
   "outputs": [],
   "source": []
  },
  {
   "cell_type": "markdown",
   "id": "8a87f429-9b04-4f46-b132-f41f254f7500",
   "metadata": {},
   "source": [
    "#### daterange()"
   ]
  },
  {
   "cell_type": "code",
   "execution_count": 51,
   "id": "c5a01b2b-c9da-4183-9a69-e3b08924e10c",
   "metadata": {},
   "outputs": [
    {
     "data": {
      "text/html": [
       "<div>\n",
       "<style scoped>\n",
       "    .dataframe tbody tr th:only-of-type {\n",
       "        vertical-align: middle;\n",
       "    }\n",
       "\n",
       "    .dataframe tbody tr th {\n",
       "        vertical-align: top;\n",
       "    }\n",
       "\n",
       "    .dataframe thead th {\n",
       "        text-align: right;\n",
       "    }\n",
       "</style>\n",
       "<table border=\"1\" class=\"dataframe\">\n",
       "  <thead>\n",
       "    <tr style=\"text-align: right;\">\n",
       "      <th></th>\n",
       "      <th>a</th>\n",
       "    </tr>\n",
       "  </thead>\n",
       "  <tbody>\n",
       "    <tr>\n",
       "      <th>0</th>\n",
       "      <td>1</td>\n",
       "    </tr>\n",
       "    <tr>\n",
       "      <th>1</th>\n",
       "      <td>2</td>\n",
       "    </tr>\n",
       "    <tr>\n",
       "      <th>2</th>\n",
       "      <td>3</td>\n",
       "    </tr>\n",
       "    <tr>\n",
       "      <th>3</th>\n",
       "      <td>4</td>\n",
       "    </tr>\n",
       "    <tr>\n",
       "      <th>4</th>\n",
       "      <td>5</td>\n",
       "    </tr>\n",
       "    <tr>\n",
       "      <th>5</th>\n",
       "      <td>5</td>\n",
       "    </tr>\n",
       "    <tr>\n",
       "      <th>6</th>\n",
       "      <td>4</td>\n",
       "    </tr>\n",
       "    <tr>\n",
       "      <th>7</th>\n",
       "      <td>6</td>\n",
       "    </tr>\n",
       "  </tbody>\n",
       "</table>\n",
       "</div>"
      ],
      "text/plain": [
       "   a\n",
       "0  1\n",
       "1  2\n",
       "2  3\n",
       "3  4\n",
       "4  5\n",
       "5  5\n",
       "6  4\n",
       "7  6"
      ]
     },
     "execution_count": 51,
     "metadata": {},
     "output_type": "execute_result"
    }
   ],
   "source": [
    "df4"
   ]
  },
  {
   "cell_type": "code",
   "execution_count": 52,
   "id": "58606328-db8a-4406-bd47-89b54a1be748",
   "metadata": {},
   "outputs": [],
   "source": [
    "### generates data in between start and end date format yyyy-mm-dd\n",
    "date = pd.date_range(start = \"2023-01-1\" , end = \"2023-05-01\")"
   ]
  },
  {
   "cell_type": "code",
   "execution_count": 53,
   "id": "43019d14-484e-42ae-875e-ce8beb107ba3",
   "metadata": {},
   "outputs": [],
   "source": [
    "df_date = pd.DataFrame({\"date\" :date})"
   ]
  },
  {
   "cell_type": "code",
   "execution_count": 54,
   "id": "792af7df-63d7-47e2-9ae7-ed3f12b20598",
   "metadata": {},
   "outputs": [
    {
     "data": {
      "text/html": [
       "<div>\n",
       "<style scoped>\n",
       "    .dataframe tbody tr th:only-of-type {\n",
       "        vertical-align: middle;\n",
       "    }\n",
       "\n",
       "    .dataframe tbody tr th {\n",
       "        vertical-align: top;\n",
       "    }\n",
       "\n",
       "    .dataframe thead th {\n",
       "        text-align: right;\n",
       "    }\n",
       "</style>\n",
       "<table border=\"1\" class=\"dataframe\">\n",
       "  <thead>\n",
       "    <tr style=\"text-align: right;\">\n",
       "      <th></th>\n",
       "      <th>date</th>\n",
       "    </tr>\n",
       "  </thead>\n",
       "  <tbody>\n",
       "    <tr>\n",
       "      <th>0</th>\n",
       "      <td>2023-01-01</td>\n",
       "    </tr>\n",
       "    <tr>\n",
       "      <th>1</th>\n",
       "      <td>2023-01-02</td>\n",
       "    </tr>\n",
       "    <tr>\n",
       "      <th>2</th>\n",
       "      <td>2023-01-03</td>\n",
       "    </tr>\n",
       "    <tr>\n",
       "      <th>3</th>\n",
       "      <td>2023-01-04</td>\n",
       "    </tr>\n",
       "    <tr>\n",
       "      <th>4</th>\n",
       "      <td>2023-01-05</td>\n",
       "    </tr>\n",
       "  </tbody>\n",
       "</table>\n",
       "</div>"
      ],
      "text/plain": [
       "        date\n",
       "0 2023-01-01\n",
       "1 2023-01-02\n",
       "2 2023-01-03\n",
       "3 2023-01-04\n",
       "4 2023-01-05"
      ]
     },
     "execution_count": 54,
     "metadata": {},
     "output_type": "execute_result"
    }
   ],
   "source": [
    "df_date.head(5)"
   ]
  },
  {
   "cell_type": "code",
   "execution_count": 11,
   "id": "dcf4fa73-0ce9-4da6-9012-2b8c08c8c4ed",
   "metadata": {},
   "outputs": [],
   "source": [
    "import pandas as pd\n",
    "date1 = pd.DataFrame({\"date\" : [\"2023-01-01\",\" 2023-01-02\",\" 2023-01-03\",\" 2023-01-04\"]})"
   ]
  },
  {
   "cell_type": "code",
   "execution_count": 12,
   "id": "d9b8a365-906c-40b4-9119-4866e0acdf45",
   "metadata": {},
   "outputs": [
    {
     "data": {
      "text/plain": [
       "date    object\n",
       "dtype: object"
      ]
     },
     "execution_count": 12,
     "metadata": {},
     "output_type": "execute_result"
    }
   ],
   "source": [
    "date1.dtypes"
   ]
  },
  {
   "cell_type": "code",
   "execution_count": 13,
   "id": "33437bc7-fb37-4451-b215-f9f42559e7b5",
   "metadata": {},
   "outputs": [],
   "source": [
    "date1[\"updated_date\"] = pd.to_datetime(date1['date'])"
   ]
  },
  {
   "cell_type": "code",
   "execution_count": 15,
   "id": "b3d2a569-0237-4725-aed2-3bc5cae439f4",
   "metadata": {},
   "outputs": [
    {
     "data": {
      "text/plain": [
       "date                    object\n",
       "updated_date    datetime64[ns]\n",
       "dtype: object"
      ]
     },
     "execution_count": 15,
     "metadata": {},
     "output_type": "execute_result"
    }
   ],
   "source": [
    "date1.dtypes"
   ]
  },
  {
   "cell_type": "markdown",
   "id": "6ae6d6f5-a5e1-463c-90e1-0256e27a3220",
   "metadata": {},
   "source": [
    "### seperate date month and year"
   ]
  },
  {
   "cell_type": "code",
   "execution_count": 28,
   "id": "391b5cde-93ca-4f2b-a907-80d440c4b92c",
   "metadata": {},
   "outputs": [],
   "source": [
    "date1[\"year\"] = date1[\"updated_date\"].dt.year"
   ]
  },
  {
   "cell_type": "code",
   "execution_count": 29,
   "id": "d9df52b8-1bd5-47e7-b8c7-6073e0a45d42",
   "metadata": {},
   "outputs": [],
   "source": [
    "date1[\"day\"] = date1[\"updated_date\"].dt.day"
   ]
  },
  {
   "cell_type": "code",
   "execution_count": 30,
   "id": "d1c5f975-02e5-409f-a1de-815887ca6b48",
   "metadata": {},
   "outputs": [],
   "source": [
    "date1[\"month\"] = date1[\"updated_date\"].dt.month"
   ]
  },
  {
   "cell_type": "code",
   "execution_count": 31,
   "id": "ad1b8314-2f56-416d-b832-bb960b43c9db",
   "metadata": {},
   "outputs": [
    {
     "data": {
      "text/html": [
       "<div>\n",
       "<style scoped>\n",
       "    .dataframe tbody tr th:only-of-type {\n",
       "        vertical-align: middle;\n",
       "    }\n",
       "\n",
       "    .dataframe tbody tr th {\n",
       "        vertical-align: top;\n",
       "    }\n",
       "\n",
       "    .dataframe thead th {\n",
       "        text-align: right;\n",
       "    }\n",
       "</style>\n",
       "<table border=\"1\" class=\"dataframe\">\n",
       "  <thead>\n",
       "    <tr style=\"text-align: right;\">\n",
       "      <th></th>\n",
       "      <th>date</th>\n",
       "      <th>updated_date</th>\n",
       "      <th>year</th>\n",
       "      <th>day</th>\n",
       "      <th>month</th>\n",
       "    </tr>\n",
       "  </thead>\n",
       "  <tbody>\n",
       "    <tr>\n",
       "      <th>0</th>\n",
       "      <td>2023-01-01</td>\n",
       "      <td>2023-01-01</td>\n",
       "      <td>2023</td>\n",
       "      <td>1</td>\n",
       "      <td>1</td>\n",
       "    </tr>\n",
       "    <tr>\n",
       "      <th>1</th>\n",
       "      <td>2023-01-02</td>\n",
       "      <td>2023-01-02</td>\n",
       "      <td>2023</td>\n",
       "      <td>2</td>\n",
       "      <td>1</td>\n",
       "    </tr>\n",
       "    <tr>\n",
       "      <th>2</th>\n",
       "      <td>2023-01-03</td>\n",
       "      <td>2023-01-03</td>\n",
       "      <td>2023</td>\n",
       "      <td>3</td>\n",
       "      <td>1</td>\n",
       "    </tr>\n",
       "    <tr>\n",
       "      <th>3</th>\n",
       "      <td>2023-01-04</td>\n",
       "      <td>2023-01-04</td>\n",
       "      <td>2023</td>\n",
       "      <td>4</td>\n",
       "      <td>1</td>\n",
       "    </tr>\n",
       "  </tbody>\n",
       "</table>\n",
       "</div>"
      ],
      "text/plain": [
       "          date updated_date  year  day  month\n",
       "0   2023-01-01   2023-01-01  2023    1      1\n",
       "1   2023-01-02   2023-01-02  2023    2      1\n",
       "2   2023-01-03   2023-01-03  2023    3      1\n",
       "3   2023-01-04   2023-01-04  2023    4      1"
      ]
     },
     "execution_count": 31,
     "metadata": {},
     "output_type": "execute_result"
    }
   ],
   "source": [
    "date1"
   ]
  },
  {
   "cell_type": "markdown",
   "id": "d1c4ac42-eb2c-4927-9b56-fa7876d1bc88",
   "metadata": {},
   "source": [
    "#### Timedelta"
   ]
  },
  {
   "cell_type": "code",
   "execution_count": 33,
   "id": "988e4c2a-d52a-4d11-8e20-adad3a13eb49",
   "metadata": {},
   "outputs": [
    {
     "data": {
      "text/plain": [
       "Timedelta('1 days 05:45:00')"
      ]
     },
     "execution_count": 33,
     "metadata": {},
     "output_type": "execute_result"
    }
   ],
   "source": [
    "###  Represents a duration, the difference between two dates or times. Timedelta is the pandas equivalent of python's datetime\n",
    "pd.Timedelta(days = 1,hours = 5,minutes = 45)"
   ]
  },
  {
   "cell_type": "code",
   "execution_count": 35,
   "id": "acae2476-5779-4c8a-8995-9dd7fd35efaa",
   "metadata": {},
   "outputs": [],
   "source": [
    "dt = pd.to_datetime( \"2023-01-01\")"
   ]
  },
  {
   "cell_type": "code",
   "execution_count": 36,
   "id": "8a7775c5-e2ca-4f47-a052-13505aba57a1",
   "metadata": {},
   "outputs": [],
   "source": [
    "t = pd.Timedelta(days = 1)"
   ]
  },
  {
   "cell_type": "code",
   "execution_count": 37,
   "id": "6b784006-6d08-4a47-a4be-a73dbe3ccc66",
   "metadata": {},
   "outputs": [
    {
     "data": {
      "text/plain": [
       "Timestamp('2023-01-02 00:00:00')"
      ]
     },
     "execution_count": 37,
     "metadata": {},
     "output_type": "execute_result"
    }
   ],
   "source": [
    "dt + t"
   ]
  },
  {
   "cell_type": "code",
   "execution_count": null,
   "id": "95e4b1d6-c283-4e66-93a8-947fa28a7514",
   "metadata": {},
   "outputs": [],
   "source": []
  },
  {
   "cell_type": "markdown",
   "id": "d02a0963-7f39-4c32-9f09-6c74f722f663",
   "metadata": {},
   "source": [
    "#### categorical data"
   ]
  },
  {
   "cell_type": "code",
   "execution_count": 50,
   "id": "309aa9c8-c618-406e-8a2d-d07cb4ae470c",
   "metadata": {},
   "outputs": [],
   "source": [
    "df = [\"Prakash\", \"Singh\" , \"Rathore\",\"Pratap\",\"Prakash\"]"
   ]
  },
  {
   "cell_type": "code",
   "execution_count": 51,
   "id": "5d2cb162-e28b-4271-bbf7-01a0a927ec8b",
   "metadata": {},
   "outputs": [
    {
     "data": {
      "text/plain": [
       "['Prakash', 'Singh', 'Rathore', 'Pratap', 'Prakash']\n",
       "Categories (4, object): ['Prakash', 'Pratap', 'Rathore', 'Singh']"
      ]
     },
     "execution_count": 51,
     "metadata": {},
     "output_type": "execute_result"
    }
   ],
   "source": [
    "## gives the unique values \n",
    "pd.Categorical(df)"
   ]
  },
  {
   "cell_type": "code",
   "execution_count": 52,
   "id": "f5dbd6d8-5a5d-4427-b203-8415a4dfc592",
   "metadata": {},
   "outputs": [],
   "source": [
    "cat = pd.Categorical(df)"
   ]
  },
  {
   "cell_type": "code",
   "execution_count": 53,
   "id": "3c54ac71-2ad3-4d79-a535-127fe8fe9a32",
   "metadata": {},
   "outputs": [
    {
     "data": {
      "text/plain": [
       "Prakash    2\n",
       "Pratap     1\n",
       "Rathore    1\n",
       "Singh      1\n",
       "dtype: int64"
      ]
     },
     "execution_count": 53,
     "metadata": {},
     "output_type": "execute_result"
    }
   ],
   "source": [
    "cat.value_counts()"
   ]
  },
  {
   "cell_type": "code",
   "execution_count": null,
   "id": "c8866d88-33d8-4bad-92cb-955d97b954a6",
   "metadata": {},
   "outputs": [],
   "source": []
  },
  {
   "cell_type": "markdown",
   "id": "9c9c6f67-fa95-45ec-a9ec-298d4bb077c5",
   "metadata": {},
   "source": [
    "#### Visualization"
   ]
  },
  {
   "cell_type": "code",
   "execution_count": 56,
   "id": "fc10f1bc-6e4e-4a2a-9f47-fb817df70c42",
   "metadata": {},
   "outputs": [
    {
     "data": {
      "text/plain": [
       "0    1\n",
       "1    2\n",
       "2    3\n",
       "3    4\n",
       "4    5\n",
       "5    8\n",
       "6    9\n",
       "7    6\n",
       "dtype: int64"
      ]
     },
     "execution_count": 56,
     "metadata": {},
     "output_type": "execute_result"
    }
   ],
   "source": [
    "d = pd.Series([1,2,3,4,5,8,9,6])\n",
    "d"
   ]
  },
  {
   "cell_type": "code",
   "execution_count": 63,
   "id": "16c0c22b-1531-4fa7-a507-f6b3d117048e",
   "metadata": {},
   "outputs": [
    {
     "data": {
      "text/plain": [
       "<AxesSubplot: >"
      ]
     },
     "execution_count": 63,
     "metadata": {},
     "output_type": "execute_result"
    },
    {
     "data": {
      "image/png": "[encoded data removed]",
      "text/plain": [
       "<Figure size 640x480 with 1 Axes>"
      ]
     },
     "metadata": {},
     "output_type": "display_data"
    }
   ],
   "source": [
    "d.plot(kind = 'bar')"
   ]
  },
  {
   "cell_type": "code",
   "execution_count": null,
   "id": "00c0a216-3479-4c36-ac14-ef22be55eed8",
   "metadata": {},
   "outputs": [],
   "source": []
  },
  {
   "cell_type": "code",
   "execution_count": 65,
   "id": "fbbc38a2-18e3-4565-93a2-7b0d931a2e53",
   "metadata": {},
   "outputs": [],
   "source": [
    "df0 = pd.DataFrame({ 'a' : [1,2,5,4,6],\n",
    "              'b' : [2,4,5,6,4],\n",
    "              'c' : [8,9,8,4,5]})"
   ]
  },
  {
   "cell_type": "code",
   "execution_count": 68,
   "id": "63c38e85-b399-4ad6-916a-42d05f1b59f5",
   "metadata": {},
   "outputs": [
    {
     "data": {
      "text/plain": [
       "<AxesSubplot: xlabel='a'>"
      ]
     },
     "execution_count": 68,
     "metadata": {},
     "output_type": "execute_result"
    },
    {
     "data": {
      "image/png": "[encoded data removed]",
      "text/plain": [
       "<Figure size 640x480 with 1 Axes>"
      ]
     },
     "metadata": {},
     "output_type": "display_data"
    }
   ],
   "source": [
    "df0.plot(x = \"a\" , y = \"c\",kind = \"bar\")"
   ]
  },
  {
   "cell_type": "code",
   "execution_count": 70,
   "id": "875a1bcf-4f2d-4269-8b3e-70acaeee35ac",
   "metadata": {},
   "outputs": [
    {
     "data": {
      "text/plain": [
       "<AxesSubplot: xlabel='a', ylabel='c'>"
      ]
     },
     "execution_count": 70,
     "metadata": {},
     "output_type": "execute_result"
    },
    {
     "data": {
      "image/png": "[encoded data removed]",
      "text/plain": [
       "<Figure size 640x480 with 1 Axes>"
      ]
     },
     "metadata": {},
     "output_type": "display_data"
    }
   ],
   "source": [
    "df0.plot.scatter(x = \"a\" , y = \"c\")"
   ]
  },
  {
   "cell_type": "code",
   "execution_count": null,
   "id": "e321a838-44ec-45ae-a42a-000cc4886047",
   "metadata": {},
   "outputs": [],
   "source": []
  },
  {
   "cell_type": "code",
   "execution_count": 71,
   "id": "953e5378-7041-47a8-b21d-55a43384dff9",
   "metadata": {},
   "outputs": [],
   "source": [
    "d = pd.Series([1,2,3,4,5,8,9,6])"
   ]
  },
  {
   "cell_type": "code",
   "execution_count": 76,
   "id": "3c33fb3f-feb2-4f2d-b723-defce6d741ca",
   "metadata": {},
   "outputs": [
    {
     "data": {
      "text/plain": [
       "<AxesSubplot: >"
      ]
     },
     "execution_count": 76,
     "metadata": {},
     "output_type": "execute_result"
    },
    {
     "data": {
      "image/png": "[encoded data removed]",
      "text/plain": [
       "<Figure size 640x480 with 1 Axes>"
      ]
     },
     "metadata": {},
     "output_type": "display_data"
    }
   ],
   "source": [
    "d.plot.pie()"
   ]
  },
  {
   "cell_type": "code",
   "execution_count": null,
   "id": "80437d23-8351-42a3-8ca4-df69bcbe4b77",
   "metadata": {},
   "outputs": [],
   "source": []
  }
 ],
 "metadata": {
  "kernelspec": {
   "display_name": "Python 3 (ipykernel)",
   "language": "python",
   "name": "python3"
  },
  "language_info": {
   "codemirror_mode": {
    "name": "ipython",
    "version": 3
   },
   "file_extension": ".py",
   "mimetype": "text/x-python",
   "name": "python",
   "nbconvert_exporter": "python",
   "pygments_lexer": "ipython3",
   "version": "3.10.8"
  }
 },
 "nbformat": 4,
 "nbformat_minor": 5
}
